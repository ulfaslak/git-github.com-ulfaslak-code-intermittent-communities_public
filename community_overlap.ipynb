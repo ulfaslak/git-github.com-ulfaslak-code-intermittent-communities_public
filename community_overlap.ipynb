{
 "cells": [
  {
   "cell_type": "markdown",
   "metadata": {},
   "source": [
    "# Preamble"
   ]
  },
  {
   "cell_type": "code",
   "execution_count": 1,
   "metadata": {},
   "outputs": [],
   "source": [
    "from utils.visualization import *\n",
    "from utils.utils import *\n",
    "from utils.network import *\n",
    "\n",
    "from collections import defaultdict\n",
    "import subprocess\n",
    "import re\n",
    "import copy\n",
    "import random"
   ]
  },
  {
   "cell_type": "code",
   "execution_count": 11,
   "metadata": {},
   "outputs": [],
   "source": [
    "standarize_plot_parameters()"
   ]
  },
  {
   "cell_type": "markdown",
   "metadata": {},
   "source": [
    "# Analysis"
   ]
  },
  {
   "cell_type": "markdown",
   "metadata": {},
   "source": [
    "This notebook produces Fig. 2 and Fig. 3."
   ]
  },
  {
   "cell_type": "markdown",
   "metadata": {},
   "source": [
    "## Fig 2."
   ]
  },
  {
   "cell_type": "markdown",
   "metadata": {},
   "source": [
    "The figure in the paper is the analytical result. Below we produce that result, both using Eq. (5), and also numerically."
   ]
  },
  {
   "cell_type": "markdown",
   "metadata": {},
   "source": [
    "### Analytical"
   ]
  },
  {
   "cell_type": "code",
   "execution_count": 30,
   "metadata": {},
   "outputs": [
    {
     "data": {
      "image/png": "[encoded data removed]",
      "text/plain": [
       "<matplotlib.figure.Figure at 0x10aaf7ad0>"
      ]
     },
     "metadata": {},
     "output_type": "display_data"
    }
   ],
   "source": [
    "def p_fc(delta, r):\n",
    "    \"\"\"Probability of switching layer with full coupling (FC).\"\"\"\n",
    "    return 0.5 * delta * r\n",
    "\n",
    "def p_nfc(delta, r, N, rho=1):\n",
    "    \"\"\"Probability of switching layer with neighborhood flow coupling (NFC).\"\"\"\n",
    "    return delta * r * ((rho * N * delta - 1) * 1.0 / ((rho * N * delta - 1) + (N - 1)))\n",
    "\n",
    "\n",
    "\n",
    "N = 100                              # Number of points to evaluate in\n",
    "r = 1.0                              # Relax rate\n",
    "deltas = np.linspace(1.0 / N, 1, N)  # Delta grid\n",
    "rho = 1.0                            # Link density\n",
    "\n",
    "# Compute P_NFC and P_FC for deltas\n",
    "P_FC, P_NFC = [], []\n",
    "for delta in deltas:\n",
    "    P_FC.append(p_fc(delta, r))\n",
    "    P_NFC.append(p_nfc(delta, r, N, rho))\n",
    "\n",
    "# Plot\n",
    "plt.figure()\n",
    "\n",
    "plt.subplot(2, 2, 1)\n",
    "plt.plot(deltas, P_NFC, label=\"NFC\", c=\"#e74c3c\")\n",
    "plt.plot(deltas, P_FC, label=\"FC\", c=\"#3498db\")\n",
    "plt.xlabel(\"$\\delta$\"); plt.ylabel(\"$P$\")\n",
    "plt.xlim(0, 0.5); plt.ylim(0, 0.3)\n",
    "plt.xticks(np.linspace(0, 0.5, 6))\n",
    "plt.yticks(np.linspace(0, 0.3, 4))\n",
    "plt.legend()\n",
    "\n",
    "plt.subplot(2, 2, 2)\n",
    "plt.plot(deltas, P_NFC, c=\"#e74c3c\")\n",
    "plt.plot(deltas, P_FC, c=\"#3498db\")\n",
    "plt.xlabel(\"$\\delta$\")\n",
    "plt.xlim(0, 1); plt.ylim(0, 0.5)\n",
    "plt.xticks(np.linspace(0, 1.0, 6))\n",
    "plt.yticks(np.linspace(0, 0.5, 6))\n",
    "\n",
    "plt.savefig(\"figures/fig2a.pdf\")\n",
    "plt.show()"
   ]
  },
  {
   "cell_type": "markdown",
   "metadata": {},
   "source": [
    "### Numerical"
   ]
  },
  {
   "cell_type": "code",
   "execution_count": 15,
   "metadata": {},
   "outputs": [],
   "source": [
    "def run_FC(pid):\n",
    "    subprocess.call([\n",
    "        \"Infomap\",\n",
    "        \"tmp/input/network%d.net\" % pid,\n",
    "        \"tmp/output\",\n",
    "        \"-i\", \"multiplex\",\n",
    "        \"--multiplex-relax-rate\", \"1.0\",\n",
    "        \"--pajek\",\n",
    "        \"-z\"\n",
    "    ])\n",
    "    \n",
    "def run_NFC(pid):\n",
    "    subprocess.call([\n",
    "        \"Infomap\",\n",
    "        \"tmp/input/network%d.net\" % pid,\n",
    "        \"tmp/output\",\n",
    "        \"-i\", \"multiplex\",\n",
    "        \"--multiplex-js-relax-rate\", \"1.0\",\n",
    "        \"--pajek\",\n",
    "        \"-z\"\n",
    "    ])\n",
    "    \n",
    "def two_overlap_benchmark_model(N, m):\n",
    "    \"\"\"Create two communities of size `N` that overlap by `m` nodes.\n",
    "\n",
    "    Two communities each contain `N` nodes and overlap my `m` nodes. All\n",
    "    nodes in one layer are connected and we stack layers vertically. Examples:\n",
    "\n",
    "    N=5, m=1:          |  N=5, m=2:        |  N=3, m=2\n",
    "            o o o o o  |        o o o o o  |    o o o\n",
    "    o o o o o          |  o o o o o        |  o o o\n",
    "\n",
    "    Input\n",
    "    -----\n",
    "    N : int\n",
    "        Number of nodes in each community\n",
    "    m : int\n",
    "        Number of overlapping nodes between the two communities\n",
    "    \"\"\"\n",
    "    # Create both layers, initially identical\n",
    "    first_layer = np.arange(0, N)\n",
    "    second_layer = np.arange(N-m, 2*N - m)\n",
    "\n",
    "    # Produce multilayer state node label map\n",
    "    partition = defaultdict(lambda: defaultdict(list))\n",
    "    for l, nodes in enumerate([first_layer, second_layer]):\n",
    "        for n in nodes:\n",
    "            partition[l][l].append(n)\n",
    "\n",
    "    return default_to_regular(partition)\n",
    "\n",
    "def P(pid):\n",
    "    \"\"\"Compute fraction of weight distributed on interlayer links.\"\"\"\n",
    "    with open(\"tmp/output/network%d.net\" % pid) as fp:\n",
    "        net = fp.read()\n",
    "\n",
    "    intralayer_weight = 0\n",
    "    interlayer_weight = 0\n",
    "    for l in re.findall(r\"\\d+ \\d+ \\d+ \\d+ \\d.*\\d*\", net):\n",
    "        l = map(eval, l.split())\n",
    "        if l[0] == l[2]:\n",
    "            intralayer_weight += l[4]\n",
    "        if l[0] != l[2]:\n",
    "            interlayer_weight += l[4]\n",
    "\n",
    "    return interlayer_weight / (intralayer_weight + interlayer_weight)\n",
    "\n",
    "N = 10\n",
    "deltas = np.linspace(1.0 / N, 1, N)\n",
    "ms = map(int, N * deltas)\n",
    "sparse_frac = 1\n",
    "\n",
    "a_nu, b_nu = [], []\n",
    "for m in ms:\n",
    "    two_layer_partition = two_overlap_benchmark_model(N, m)\n",
    "\n",
    "    # Format as pajek\n",
    "    network = convert_to_pajek(two_layer_partition, sparse_frac)\n",
    "\n",
    "    # Save it\n",
    "    pid_FC, pid_NFC = [np.random.randint(1, 1e9) for _ in range(2)]\n",
    "    with open(\"tmp/input/network%d.net\" % pid_FC, 'w') as fp:\n",
    "        fp.write(network)\n",
    "    with open(\"tmp/input/network%d.net\" % pid_NFC, 'w') as fp:\n",
    "        fp.write(network)\n",
    "        \n",
    "    run_FC(pid_FC)\n",
    "    run_NFC(pid_NFC)\n",
    "    \n",
    "    a_nu.append(P(pid_FC))\n",
    "    b_nu.append(P(pid_NFC))\n",
    "    \n",
    "    subprocess.call([\"rm\", \"tmp/input/network%d.net\" % pid_FC, \"tmp/output/network%d.net\" % pid_FC, \"tmp/output/network%d.tree\" % pid_FC])\n",
    "    subprocess.call([\"rm\", \"tmp/input/network%d.net\" % pid_NFC, \"tmp/output/network%d.net\" % pid_NFC, \"tmp/output/network%d.tree\" % pid_NFC])"
   ]
  },
  {
   "cell_type": "code",
   "execution_count": 23,
   "metadata": {},
   "outputs": [
    {
     "data": {
      "image/png": "[encoded data removed]",
      "text/plain": [
       "<matplotlib.figure.Figure at 0x112dfd5d0>"
      ]
     },
     "metadata": {},
     "output_type": "display_data"
    }
   ],
   "source": [
    "plt.figure()\n",
    "plt.scatter(deltas, a_nu)\n",
    "plt.plot(deltas, a_nu, label=\"FC\")\n",
    "plt.scatter(deltas, b_nu)\n",
    "plt.plot(deltas, b_nu, label=\"NFC\")\n",
    "plt.legend()\n",
    "plt.savefig(\"figures/fig2b.pdf\")\n",
    "plt.show()"
   ]
  },
  {
   "cell_type": "markdown",
   "metadata": {},
   "source": [
    "## Fig. 3"
   ]
  },
  {
   "cell_type": "code",
   "execution_count": 5,
   "metadata": {
    "collapsed": true
   },
   "outputs": [],
   "source": [
    "def overlap_benchmark_model(N, C, d=1, swaps=50):\n",
    "    \"\"\"Create an instance of the overlap benchmark model.\n",
    "    \"\"\"\n",
    "    # Create both layers, initially identical\n",
    "    first_layer = np.array_split(shuffle_list(range(N)), C)\n",
    "    second_layer = copy.deepcopy(first_layer)\n",
    "\n",
    "    # Perform 1-50 edge swaps in the second layer graph\n",
    "    for _ in range(np.random.randint(1, swaps)):\n",
    "        a, b = random.sample(range(C), 2)\n",
    "        a_i, b_i = random.choice(range(len(second_layer[a]))), random.choice(range(len(second_layer[b])))\n",
    "        a_v, b_v = second_layer[a][a_i], second_layer[b][b_i]\n",
    "        second_layer[a][a_i] = b_v; second_layer[b][b_i] = a_v\n",
    "\n",
    "    # Produce multilayer state node label map\n",
    "    partition_true = defaultdict(lambda: defaultdict(list))\n",
    "    for l, layer in enumerate([first_layer] + [second_layer] * ((d-1)*2 + 1)):\n",
    "        for c, nodes in enumerate(layer):\n",
    "            for n in nodes:\n",
    "                partition_true[l][(l * C) % (2*C) + c].append(n)\n",
    "                \n",
    "    return default_to_regular(partition_true)\n",
    "\n",
    "def com_match(nodes_i, nodes_j, layer_communities_sol):\n",
    "    \"\"\"Check whether two node sets are in the same community.\"\"\"\n",
    "    def _get_com(nodes_x, l):\n",
    "        sim = dict()\n",
    "        for c, nodes in layer_communities_sol[l].items():\n",
    "            sim[c] = len(set(nodes_x) & set(nodes))\n",
    "        return max(sim.items(), key=lambda (k, v): v)[0]\n",
    "    return _get_com(nodes_i, 0) == _get_com(nodes_j, 1)\n",
    "\n",
    "def compute_overlap_and_merge(layer_communities_true, layer_communities_sol):\n",
    "    \"\"\"Compute overlap and merge (0 or 1) for layer-adjacent communities.\"\"\"\n",
    "    overlap, merge = [], []\n",
    "    for c_i, nodes_i in layer_communities_true[0].items():\n",
    "        for c_j, nodes_j in layer_communities_true[1].items():\n",
    "            overlap.append(len(set(nodes_i) & set(nodes_j)))\n",
    "            merge.append(com_match(nodes_i, nodes_j, layer_communities_sol))\n",
    "    return overlap, merge"
   ]
  },
  {
   "cell_type": "code",
   "execution_count": 40,
   "metadata": {
    "collapsed": true
   },
   "outputs": [],
   "source": [
    "def result_statistics(overlap, merge):\n",
    "    \"\"\"For a set of overlaps and merge outcomes, compute the statistics and return plotable variables.\"\"\"\n",
    "    ds = defaultdict(list)\n",
    "    for o, m in zip(overlap, merge):\n",
    "        ds[o].append(m)\n",
    "    x, y, e, c = zip(*sorted([\n",
    "        (k, np.mean(v), np.std(v) / np.sqrt(len(v)), len(v)) for k, v in ds.items()\n",
    "    ], key=lambda vals: vals[0]))\n",
    "    return x, y, e, c"
   ]
  },
  {
   "cell_type": "code",
   "execution_count": 36,
   "metadata": {},
   "outputs": [],
   "source": [
    "def run_simulation(N, C, sparse_frac):\n",
    "    overlap_FC, merge_FC = [], []\n",
    "    overlap_NFC, merge_NFC = [], []\n",
    "\n",
    "    for _itr in range(1000):\n",
    "\n",
    "        # Create partition\n",
    "        partition_true = overlap_benchmark_model(N, C, swaps=2000)\n",
    "        network_pajek = convert_to_pajek(partition_true, sparse_frac=sparse_frac)\n",
    "\n",
    "        # Produce Infomap solution with full coupling\n",
    "        random_FC = np.random.randint(0, 1000000)\n",
    "        communities_FC, partition_FC, node_flow_FC, community_flow_FC = Infomap(\n",
    "            network_pajek,\n",
    "            '-i',\n",
    "            'multiplex',\n",
    "            '--multiplex-relax-rate', '0.3',\n",
    "            '--overlapping',\n",
    "            '--expanded',\n",
    "            '--clu',\n",
    "            '--pajek',\n",
    "            '-z',\n",
    "            '--two-level',\n",
    "            'pid%d' % random_FC\n",
    "        )\n",
    "\n",
    "        # Produce Infomap solution with neighborhood flow coupling\n",
    "        random_NFC = np.random.randint(0, 1000000)\n",
    "        communities_NFC, partition_NFC, node_flow_NFC, community_flow_NFC = Infomap(\n",
    "            network_pajek,\n",
    "            '-i',\n",
    "            'multiplex',\n",
    "            '--multiplex-js-relax-rate', '0.3',\n",
    "            '--overlapping',\n",
    "            '--expanded',\n",
    "            '--clu',\n",
    "            '--pajek',\n",
    "            '-z',\n",
    "            '--two-level',\n",
    "            'pid%d' % random_NFC\n",
    "        )\n",
    "\n",
    "        # Compute overlap and merge\n",
    "        overlap_FC_iter, merge_FC_iter = compute_overlap_and_merge(partition_true, partition_FC) \n",
    "        overlap_NFC_iter, merge_NFC_iter = compute_overlap_and_merge(partition_true, partition_NFC) \n",
    "\n",
    "        # Record computed values\n",
    "        overlap_FC.extend(overlap_FC_iter)\n",
    "        merge_FC.extend(merge_FC_iter)\n",
    "        overlap_NFC.extend(overlap_NFC_iter)\n",
    "        merge_NFC.extend(merge_NFC_iter)\n",
    "        \n",
    "    return overlap_FC, merge_FC, overlap_NFC, merge_NFC\n",
    "\n",
    "overlap_FC, merge_FC, overlap_NFC, merge_NFC = run_simulation(N=500, C=50, sparse_frac=1)\n",
    "overlap_FC_s, merge_FC_s, overlap_NFC_s, merge_NFC_s = run_simulation(N=500, C=50, sparse_frac=0.25)"
   ]
  },
  {
   "cell_type": "code",
   "execution_count": 43,
   "metadata": {},
   "outputs": [
    {
     "data": {
      "image/png": "[encoded data removed]",
      "text/plain": [
       "<matplotlib.figure.Figure at 0x110d7e350>"
      ]
     },
     "metadata": {},
     "output_type": "display_data"
    }
   ],
   "source": [
    "plt.figure()\n",
    "\n",
    "plt.subplot(3, 2, 1)\n",
    "\n",
    "# Rho = 1\n",
    "x_FC, y_FC, e_FC, _ = result_statistics(overlap_FC, merge_FC)\n",
    "x_NFC, y_NFC, e_NFC, _ = result_statistics(overlap_NFC, merge_NFC)\n",
    "plt.errorbar(x_FC, y_FC, e_FC, c=\"#3498db\", lw=0.5)\n",
    "plt.errorbar(x_NFC, y_NFC, e_NFC, c=\"#e74c3c\", lw=0.5)\n",
    "\n",
    "plt.xlabel(\"Overlap, $\\delta$\")\n",
    "plt.ylabel(\"Merge prob.\")\n",
    "plt.xlim(0, N/C)\n",
    "plt.ylim(-0.05, 1.0)\n",
    "plt.xticks(range(0, N/C+1, 2), np.arange(0, 1.2, 0.2))\n",
    "\n",
    "plt.savefig(\"figures/fig3b.pdf\")\n",
    "plt.show()"
   ]
  },
  {
   "cell_type": "code",
   "execution_count": 42,
   "metadata": {},
   "outputs": [
    {
     "data": {
      "image/png": "[encoded data removed]",
      "text/plain": [
       "<matplotlib.figure.Figure at 0x10e999e90>"
      ]
     },
     "metadata": {},
     "output_type": "display_data"
    }
   ],
   "source": [
    "plt.figure()\n",
    "\n",
    "plt.subplot(3, 2, 1)\n",
    "\n",
    "# Rho = 0.25\n",
    "x_FC_s, y_FC_s, e_FC_s, _ = result_statistics(overlap_FC_s, merge_FC_s)\n",
    "x_NFC_s, y_NFC_s, e_NFC_s, _ = result_statistics(overlap_NFC_s, merge_NFC_s)\n",
    "plt.errorbar(x_FC_s, y_FC_s, e_FC_s, c=\"#3498db\", lw=0.5)\n",
    "plt.errorbar(x_NFC_s, y_NFC_s, e_NFC_s, c=\"#e74c3c\", lw=0.5)\n",
    "\n",
    "plt.xlabel(\"Overlap, $\\delta$\")\n",
    "plt.ylabel(\"Merge prob.\")\n",
    "plt.xlim(0, N/C)\n",
    "plt.ylim(-0.05, 1.0)\n",
    "plt.xticks(range(0, N/C+1, 2), np.arange(0, 1.2, 0.2))\n",
    "\n",
    "plt.savefig(\"figures/fig3c.pdf\")\n",
    "plt.show()"
   ]
  }
 ],
 "metadata": {
  "kernelspec": {
   "display_name": "Python 2",
   "language": "python",
   "name": "python2"
  },
  "language_info": {
   "codemirror_mode": {
    "name": "ipython",
    "version": 2
   },
   "file_extension": ".py",
   "mimetype": "text/x-python",
   "name": "python",
   "nbconvert_exporter": "python",
   "pygments_lexer": "ipython2",
   "version": "2.7.14"
  }
 },
 "nbformat": 4,
 "nbformat_minor": 1
}
