{
 "cells": [
  {
   "cell_type": "markdown",
   "metadata": {},
   "source": [
    "# Preamble"
   ]
  },
  {
   "cell_type": "code",
   "execution_count": 48,
   "metadata": {
    "collapsed": true
   },
   "outputs": [],
   "source": [
    "from utils.utils import *\n",
    "from utils.network import *\n",
    "from utils.visualization import *\n",
    "\n",
    "import numpy as np\n",
    "import re\n",
    "import subprocess\n",
    "import networkx as nx\n",
    "import random\n",
    "from multiprocessing import Pool\n",
    "from sklearn.metrics.cluster import adjusted_mutual_info_score"
   ]
  },
  {
   "cell_type": "code",
   "execution_count": 49,
   "metadata": {
    "collapsed": true
   },
   "outputs": [],
   "source": [
    "standarize_plot_parameters()"
   ]
  },
  {
   "cell_type": "markdown",
   "metadata": {},
   "source": [
    "# Analysis"
   ]
  },
  {
   "cell_type": "markdown",
   "metadata": {},
   "source": [
    "## Fig 4.d-e"
   ]
  },
  {
   "cell_type": "markdown",
   "metadata": {},
   "source": [
    "### Utility functions"
   ]
  },
  {
   "cell_type": "code",
   "execution_count": 50,
   "metadata": {
    "collapsed": true
   },
   "outputs": [],
   "source": [
    "def multilayer_network_with_L_samples(G_arr, L, shuf=False):\n",
    "    \"\"\"Take T independent networks and sample L subgraphs from each.\n",
    "    \n",
    "    Input\n",
    "    -----\n",
    "        G_arr : list of nx.Graph objects\n",
    "        L : number (int) of subgraphs to create for each element in G_arr\n",
    "        shuf : bool. whether or not to shuffle order of subgraphs\n",
    "        \n",
    "    Output\n",
    "    ------\n",
    "        out : str. pajek-formatted multilayer network\n",
    "    \"\"\"\n",
    "    def _sample_from_graph(G, p):\n",
    "        G_sample = nx.Graph()\n",
    "        G_sample.add_nodes_from(G.nodes())\n",
    "        G_sample.add_edges_from(random.sample(G.edges(), int(p*len(G.edges()))))\n",
    "        return G_sample\n",
    "    \n",
    "    G_arr_sampled = []\n",
    "    for G in G_arr:\n",
    "        for _ in range(L):\n",
    "            G_arr_sampled.append(_sample_from_graph(G, 1.0/L))\n",
    "        \n",
    "    if shuf:\n",
    "        G_arr_sampled, order = shuffle_order(G_arr_sampled)\n",
    "        return graph_list_to_pajek(G_arr_sampled), order\n",
    "\n",
    "    return graph_list_to_pajek(G_arr_sampled)\n",
    "    \n",
    "def multiplex_AMI(layer_commu, L, partitions):\n",
    "    \"\"\"Compute multiplex AMI of \n",
    "    \"\"\"\n",
    "    multilayer_partition_true = dict()\n",
    "    multilayer_partition_pred = dict()\n",
    "    for i in range(len(partitions)):\n",
    "        for l in range(L):\n",
    "            layer = i*L + l\n",
    "            multilayer_partition_true.update(\n",
    "                dict(\n",
    "                    (str(layer) + str(n), int(str(i) + str(c)))\n",
    "                    for n, c in partitions[i].items()\n",
    "                )\n",
    "            )\n",
    "            multilayer_partition_pred.update(\n",
    "                dict(\n",
    "                    (str(layer) + str(n), c)\n",
    "                    for n, c in invert_partition(layer_commu[layer]).items()\n",
    "                )\n",
    "            )\n",
    "    return NMI_score(multilayer_partition_true, multilayer_partition_pred)"
   ]
  },
  {
   "cell_type": "markdown",
   "metadata": {},
   "source": [
    "### Experiment"
   ]
  },
  {
   "cell_type": "code",
   "execution_count": 51,
   "metadata": {
    "collapsed": true
   },
   "outputs": [],
   "source": [
    "def worker(args):\n",
    "    \"\"\"Worker function for running Infomap. Enables parallelization.\"\"\"\n",
    "    if len(args) == 2:\n",
    "        args, order = args\n",
    "        _, _layer_commu, _, _ = Infomap(*args)\n",
    "        _layer_commu = reorder_shuffled_layer_commu(_layer_commu, order)\n",
    "    else:\n",
    "        _, _layer_commu, _, _ = Infomap(*args)\n",
    "    return _layer_commu, args[-1][3:]\n",
    "    \n",
    "def AMI_vs_L(G_arr, partitions, L_max, parallel, n_procs):\n",
    "    \"\"\"Compute the multiplex AMI of NFC, FC, AC and NC for a range of L values (sparsity).\n",
    "    \n",
    "    Input\n",
    "    -----\n",
    "        G_arr : list of nx.Graph\n",
    "            Length of G_arr is T, and each nx.Graph corresponds to an independent mode.\n",
    "        partitions : list of dicts\n",
    "            Each dict gives the partition of a mode.\n",
    "        L_max : int\n",
    "            Maximum value of L to test. (independent variable max)\n",
    "        parallel : bool (for debugging)\n",
    "        \n",
    "    Output\n",
    "    ------\n",
    "        out : tuple\n",
    "            lists: `AMI_NFC`, `AMI_FC`, `AMI_AC`, `AMI_ACshuf`, `AMI_NC`. Each list\n",
    "            contains multiplex AMI for the range of tested L values.\n",
    "    \"\"\"\n",
    "    \n",
    "    AMI_NFC, AMI_FC, AMI_AC, AMI_ACshuf, AMI_NC = [], [], [], [], []\n",
    "    L_arr = range(1, L_max+1)\n",
    "    \n",
    "    data = []\n",
    "    \n",
    "    for L in L_arr:\n",
    "        pajek_synth = multilayer_network_with_L_samples(G_arr, L)\n",
    "        pajek_synth_shuf, order = multilayer_network_with_L_samples(G_arr, L, shuf=True)\n",
    "        \n",
    "        args = [\n",
    "            pajek_synth,\n",
    "            '-i',\n",
    "            'multiplex',\n",
    "            '--multiplex-js-relax-rate', '0.25',\n",
    "            '--overlapping',\n",
    "            '--expanded',\n",
    "            '--clu',\n",
    "            '--two-level',\n",
    "            '-z',\n",
    "            'pidNFC_L%d' % L\n",
    "        ]\n",
    "        \n",
    "        data.append(args)\n",
    "\n",
    "        args = [\n",
    "            pajek_synth,\n",
    "            '-i',\n",
    "            'multiplex',\n",
    "            '--multiplex-relax-rate', '0.25',\n",
    "            '--overlapping',\n",
    "            '--expanded',\n",
    "            '--clu',\n",
    "            '--two-level',\n",
    "            '-z',\n",
    "            'pidFC_L%d' % L\n",
    "        ]\n",
    "        \n",
    "        data.append(args)\n",
    "\n",
    "        args = [\n",
    "            pajek_synth,\n",
    "            '-i',\n",
    "            'multiplex',\n",
    "            '--multiplex-relax-rate', '0.25',\n",
    "            '--multiplex-relax-limit', '1'\n",
    "            '--overlapping',\n",
    "            '--expanded',\n",
    "            '--clu',\n",
    "            '--two-level',\n",
    "            '-z',\n",
    "            'pidAC_L%d' % L\n",
    "        ]\n",
    "        \n",
    "        data.append(args)\n",
    "\n",
    "        args = [(\n",
    "            pajek_synth_shuf,\n",
    "            '-i',\n",
    "            'multiplex',\n",
    "            '--multiplex-relax-rate', '0.25',\n",
    "            '--multiplex-relax-limit', '1'\n",
    "            '--overlapping',\n",
    "            '--expanded',\n",
    "            '--clu',\n",
    "            '--two-level',\n",
    "            '-z',\n",
    "            'pidACshuf_L%d' % L\n",
    "        ), order]\n",
    "        \n",
    "        data.append(args)\n",
    "\n",
    "        args = [\n",
    "            pajek_synth,\n",
    "            '-i',\n",
    "            'multiplex',\n",
    "            '--multiplex-relax-rate', '0.0',\n",
    "            '--multiplex-relax-limit', '1',\n",
    "            '--overlapping',\n",
    "            '--expanded',\n",
    "            '--clu',\n",
    "            '--two-level',\n",
    "            '-z',\n",
    "            'pidNC_L%d' % L\n",
    "        ]\n",
    "        \n",
    "        data.append(args)\n",
    "    \n",
    "    if parallel:\n",
    "        p = Pool(n_procs)\n",
    "        processes = p.map(worker, data)\n",
    "    else:\n",
    "        processes = map(worker, data)\n",
    "    \n",
    "    for output in processes:\n",
    "        layer_commu, pid = output\n",
    "        algo = pid.split(\"_\")[0]\n",
    "        L = int(pid.split(\"L\")[1])\n",
    "        locals()['AMI_%s' % algo].append(multiplex_AMI(layer_commu, L, partitions))\n",
    "    \n",
    "    if parallel:\n",
    "        p.close()\n",
    "    \n",
    "    return AMI_NFC, AMI_FC, AMI_AC, AMI_ACshuf, AMI_NC\n",
    "\n",
    "def run_simulation(T, n_iter, L_max, parallel, LFR_params, *args):\n",
    "    \n",
    "    if args == ():\n",
    "        NFC, FC, AC, ACshuf, NC = [], [], [], [], []\n",
    "    else:\n",
    "        NFC, FC, AC, ACshuf, NC = args\n",
    "        \n",
    "    for i in range(n_iter):\n",
    "        G_arr, partitions = map(\n",
    "            list,\n",
    "            zip(*[LFR_benchmark_graph(**LFR_params) for _ in range(T)])\n",
    "        )\n",
    "        while True:\n",
    "            try:\n",
    "                AMI_NFC, AMI_FC, AMI_AC, AMI_ACshuf, AMI_NC = AMI_vs_L(G_arr, partitions, L_max, parallel, 8)\n",
    "                break\n",
    "            except KeyError:\n",
    "                print \"KeyError\",\n",
    "                \n",
    "        NFC.append(AMI_NFC)\n",
    "        FC.append(AMI_FC)\n",
    "        AC.append(AMI_AC)\n",
    "        ACshuf.append(AMI_ACshuf)\n",
    "        NC.append(AMI_NC)\n",
    "        print i,\n",
    "        \n",
    "    return NFC, FC, AC, ACshuf, NC"
   ]
  },
  {
   "cell_type": "markdown",
   "metadata": {},
   "source": [
    "### Parameters"
   ]
  },
  {
   "cell_type": "code",
   "execution_count": 52,
   "metadata": {
    "collapsed": true
   },
   "outputs": [],
   "source": [
    "# The parameters used to generate modes\n",
    "L_max = 24\n",
    "LFR_params = dict(N=128, k=16, maxk=32, mu=0.05, t1=2.5, t2=1.5)"
   ]
  },
  {
   "cell_type": "code",
   "execution_count": 13,
   "metadata": {},
   "outputs": [
    {
     "data": {
      "image/png": "[encoded data removed]",
      "text/plain": [
       "<matplotlib.figure.Figure at 0x1a18e72ad0>"
      ]
     },
     "metadata": {},
     "output_type": "display_data"
    }
   ],
   "source": [
    "# An example of what a mode looks like\n",
    "G_example, partition_example = LFR_benchmark_graph(**LFR_params)\n",
    "\n",
    "plt.figure(figsize=(15, 4))\n",
    "plt.subplot(1, 3, 1)\n",
    "draw(G_example, partition=partition_example)\n",
    "plt.subplot(1, 3, 2)\n",
    "plt.hist([d for n, d in G_example.degree()])\n",
    "plt.xlabel(\"Node degrees\", fontsize=16)\n",
    "plt.subplot(1, 3, 3)\n",
    "plt.hist([len(nodes) for n, nodes in invert_partition(partition_example).items()])\n",
    "plt.xlabel(\"Community sizes\", fontsize=16)\n",
    "plt.show()"
   ]
  },
  {
   "cell_type": "markdown",
   "metadata": {},
   "source": [
    "### Run"
   ]
  },
  {
   "cell_type": "code",
   "execution_count": 53,
   "metadata": {},
   "outputs": [
    {
     "name": "stdout",
     "output_type": "stream",
     "text": [
      "0 1 2 3 4 5 6 7 8 9 10 11 12 13 14 15 16 17 18 19 20 21 22 23 24 25 26 27 28 29 30 31 32 33 34 35 36 37 38 39 0 1 2 3 4 5 6 7 8 9 10 11 12 13 14 15 16 17 18 19 20 21 22 23 24 25 26 27 28 29 30 31 32 33 34 35 36 37 38 39 0 1 2 3 4 5 6 7 8 9 10 11 12 13 14 15 16 17 18 19\n"
     ]
    }
   ],
   "source": [
    "NFC_T1, FC_T1, AC_T1, ACshuf_T1, NC_T1 = run_simulation(1, 40, L_max, True, LFR_params)\n",
    "NFC_T3, FC_T3, AC_T3, ACshuf_T3, NC_T3 = run_simulation(3, 40, L_max, True, LFR_params)\n",
    "NFC_T10, FC_T10, AC_T10, ACshuf_T10, NC_T10 = run_simulation(10, 20, L_max, True, LFR_params=LFR_params)"
   ]
  },
  {
   "cell_type": "markdown",
   "metadata": {},
   "source": [
    "### Visualize"
   ]
  },
  {
   "cell_type": "code",
   "execution_count": 59,
   "metadata": {},
   "outputs": [
    {
     "data": {
      "image/png": "[encoded data removed]",
      "text/plain": [
       "<matplotlib.figure.Figure at 0x1a317d2850>"
      ]
     },
     "metadata": {},
     "output_type": "display_data"
    },
    {
     "data": {
      "image/png": "[encoded data removed]",
      "text/plain": [
       "<matplotlib.figure.Figure at 0x1a25fbded0>"
      ]
     },
     "metadata": {},
     "output_type": "display_data"
    },
    {
     "data": {
      "image/png": "[encoded data removed]",
      "text/plain": [
       "<matplotlib.figure.Figure at 0x1a31c35390>"
      ]
     },
     "metadata": {},
     "output_type": "display_data"
    }
   ],
   "source": [
    "labelmap = {1: \"d\", 3: 'e', 10: 'T10'}\n",
    "for T in [1, 3, 10]:\n",
    "\n",
    "    X = [range(1, L_max+1)]\n",
    "    \n",
    "    plt.figure(figsize=(3.42/2.0, 1.2))\n",
    "    plt.title(\"$T$ = %d, $r = 0.25$\" % T)\n",
    "    confidence_intervals(X, globals()[\"NFC_T%d\" % T], c=\"#d35400\", label=\"NFC\", lw=0.5)\n",
    "    confidence_intervals(X, globals()[\"FC_T%d\" % T], \"#2980b9\", label=\"FC\", lw=0.5)\n",
    "    confidence_intervals(X, globals()[\"AC_T%d\" % T], c=\"#16a085\", label=\"AC\", lw=0.5)\n",
    "    confidence_intervals(X, globals()[\"ACshuf_T%d\" % T], c=\"#16a085\", label=\"AC (shuffled)\", lw=0.5, ls=\"--\")\n",
    "    confidence_intervals(X, globals()[\"NC_T%d\" % T], c=\"#f39c12\", label=\"NC\", lw=0.5)\n",
    "\n",
    "    plt.xlim(1, L_max)\n",
    "    plt.ylim(0, 1.1)\n",
    "\n",
    "    plt.legend(loc=\"upper right\", fontsize=5, frameon=False)\n",
    "    plt.savefig(\"figures/Fig4%s.pdf\" % labelmap[T])\n",
    "    plt.show()\n",
    "    "
   ]
  },
  {
   "cell_type": "markdown",
   "metadata": {},
   "source": [
    "## Fig b"
   ]
  },
  {
   "cell_type": "markdown",
   "metadata": {},
   "source": [
    "### Experiment"
   ]
  },
  {
   "cell_type": "code",
   "execution_count": 61,
   "metadata": {},
   "outputs": [],
   "source": [
    "def AMI_vs_r(G_arr, partitions, L, r_values, method, shuffle=False):\n",
    "    \"\"\"Compute the multiplex AMI of NFC, FC, AC (and NC) for a range of relax rates.\n",
    "    \n",
    "    Input\n",
    "    -----\n",
    "        G_arr : list of nx.Graph\n",
    "            Length of G_arr is T, and each nx.Graph corresponds to an independent mode.\n",
    "        partitions : list of dicts\n",
    "            Each dict gives the partition of a mode.\n",
    "        L : int\n",
    "            The sparsity level at which to measure AMI\n",
    "        r_values : list\n",
    "            Relax rates to test AMI in (independent variable)\n",
    "        parallel : bool (for debugging)\n",
    "        \n",
    "    Output\n",
    "    ------\n",
    "        out : tuple\n",
    "            lists: `AMI_NFC`, `AMI_FC`, `AMI_AC`, `AMI_ACshuf`, `AMI_NC`. Each list\n",
    "            contains multiplex AMI for the range of tested L values.\n",
    "    \"\"\"\n",
    "    \n",
    "    AMI_NFC = []\n",
    "    for relax_rate in r_values:\n",
    "        pajek_synth = multilayer_network_with_L_samples(G_arr, L)\n",
    "        \n",
    "        if shuffle:\n",
    "            pajek_synth, order = multilayer_network_with_L_samples(G_arr, L, shuf=True)  # FOR SHUFFLED\n",
    "        \n",
    "        method_args = {\n",
    "            'FC': ['--multiplex-relax-rate', str(relax_rate)],\n",
    "            'NC': ['--multiplex-relax-rate', '0', '--multiplex-relax-limit', '1'],\n",
    "            'NFC': ['--multiplex-js-relax-rate', str(relax_rate)],\n",
    "            'AC': ['--multiplex-relax-rate', str(relax_rate), '--multiplex-relax-limit', '1']\n",
    "        }\n",
    "\n",
    "        args = [\n",
    "            pajek_synth,\n",
    "            '-i',\n",
    "            'multiplex'\n",
    "        ] + method_args[method] + [\n",
    "            '--overlapping',\n",
    "            '--expanded',\n",
    "            '--clu',\n",
    "            '--two-level',\n",
    "            '-z',\n",
    "            'pidNFC_%d' % random.randint(0, 100000000)\n",
    "        ]\n",
    "        \n",
    "        _, layer_commu, _, _ = Infomap(*args)\n",
    "        if shuffle:\n",
    "            layer_commu = reorder_shuffled_layer_commu(layer_commu, order)  # FOR SHUFFLED\n",
    "        \n",
    "        AMI_NFC.append(multiplex_AMI(layer_commu, L, partitions))\n",
    "    \n",
    "    return AMI_NFC\n",
    "\n",
    "def worker((mu, L, r_values, method, shuffle, G_arr_and_partitions, _iter)):\n",
    "    G_arr, partitions = map(list, zip(*G_arr_and_partitions))\n",
    "    return AMI_vs_r(G_arr, partitions, L, r_values, method, shuffle)\n",
    "\n",
    "def run_simulation(T, L, LFR_params, r_values, method, shuffle, parallel, n_procs, n_iter, *args):\n",
    "    \n",
    "    print \"Running simulation with T = %d, over %d iterations\" % (T, n_iter)\n",
    "    \n",
    "    if args == ():\n",
    "        out = []\n",
    "    else:\n",
    "        out = args[0]\n",
    "    \n",
    "    G_arr_and_partitions = [LFR_benchmark_graph(**LFR_params) for _ in range(T)]\n",
    "    \n",
    "    data = [\n",
    "        [0.05, L, r_values, method, shuffle, G_arr_and_partitions, _iter]\n",
    "        for _iter in range(n_iter)\n",
    "    ]\n",
    "    \n",
    "    if parallel:\n",
    "        p = Pool(n_procs)\n",
    "        out.extend(p.map(worker, data))\n",
    "        p.close()\n",
    "    else:\n",
    "        out.extend(map(worker, data))\n",
    "        \n",
    "    return out"
   ]
  },
  {
   "cell_type": "markdown",
   "metadata": {},
   "source": [
    "### Parameters"
   ]
  },
  {
   "cell_type": "code",
   "execution_count": 62,
   "metadata": {
    "collapsed": true
   },
   "outputs": [],
   "source": [
    "r_values = [0.0, 0.05, 0.10, 0.15, 0.20, 0.25, 0.30, 0.35, 0.40, 0.45, 0.50, 0.55, 0.60, 0.65, 0.70, 0.75, 0.80, 0.85, 0.90, 0.95, 0.999]\n",
    "LFR_params = dict(N=128, k=16, maxk=32, mu=0.05, t1=2.5, t2=1.5)\n",
    "T = 3\n",
    "L = 5"
   ]
  },
  {
   "cell_type": "markdown",
   "metadata": {},
   "source": [
    "### Run"
   ]
  },
  {
   "cell_type": "code",
   "execution_count": 63,
   "metadata": {},
   "outputs": [
    {
     "name": "stdout",
     "output_type": "stream",
     "text": [
      "Running simulation with T = 3, over 40 iterations\n",
      "Running simulation with T = 3, over 40 iterations\n",
      "Running simulation with T = 3, over 40 iterations\n",
      "Running simulation with T = 3, over 40 iterations\n",
      "Running simulation with T = 3, over 40 iterations\n"
     ]
    }
   ],
   "source": [
    "NFCT3L5 = run_simulation(T, L, LFR_params, r_values, \"NFC\", False, True, 8, 40)\n",
    "ACT3L5 = run_simulation(T, L, LFR_params, r_values, \"AC\", False, True, 8, 40)\n",
    "ACshufT3L5 = run_simulation(T, L, LFR_params, r_values, \"AC\", True, True, 8, 40)\n",
    "FCT3L5 = run_simulation(T, L, LFR_params, r_values, \"FC\", False, True, 8, 40)\n",
    "NCT3L5 = run_simulation(T, L, LFR_params, r_values, \"NC\", False, True, 8, 40)"
   ]
  },
  {
   "cell_type": "markdown",
   "metadata": {},
   "source": [
    "### Visualize"
   ]
  },
  {
   "cell_type": "code",
   "execution_count": 24,
   "metadata": {},
   "outputs": [
    {
     "data": {
      "image/png": "[encoded data removed]",
      "text/plain": [
       "<matplotlib.figure.Figure at 0x11388ab10>"
      ]
     },
     "metadata": {},
     "output_type": "display_data"
    }
   ],
   "source": [
    "plt.figure(None, figsize=(3.42/2.0, 1.2), frameon=False)\n",
    "plt.plot(r_values, [np.mean(NCT3L5)]*len(r_values), c=\"#f39c12\", lw=0.5)\n",
    "confidence_intervals([r_values], NFCT3L5, c=\"#d35400\", label=T, lw=0.5)\n",
    "confidence_intervals([r_values], ACT3L5, c=\"#16a085\", label=T, lw=0.5)\n",
    "confidence_intervals([r_values], ACshufT3L5, c=\"#16a085\", label=T, lw=0.5, ls=\"--\")\n",
    "confidence_intervals([r_values], FCT3L5, c=\"#2980b9\", label=T, lw=0.5)\n",
    "\n",
    "plt.xlim(0, 1.0)\n",
    "plt.ylim(0, 1.1)\n",
    "\n",
    "plt.title(\"$T=3$, $L=5$\")\n",
    "plt.xlabel(\"Relax rate, $r$\")\n",
    "plt.ylabel(\"Multiplex NMI\")\n",
    "\n",
    "plt.savefig(\"figures/Fig4b.pdf\")\n",
    "plt.show()"
   ]
  },
  {
   "cell_type": "markdown",
   "metadata": {
    "collapsed": true
   },
   "source": [
    "## Fig. 4c"
   ]
  },
  {
   "cell_type": "markdown",
   "metadata": {},
   "source": [
    "### Experiment"
   ]
  },
  {
   "cell_type": "code",
   "execution_count": 42,
   "metadata": {
    "collapsed": true
   },
   "outputs": [],
   "source": [
    "def worker((T, L, G_arr_and_partitions)):\n",
    "    # Create T independent LFR benchmark graphs\n",
    "    G_arr, partitions = map(list, zip(*G_arr_and_partitions))\n",
    "\n",
    "    # Convert to pajek with L samples per state node\n",
    "    pajek_synth = multilayer_network_with_L_samples(G_arr, L)\n",
    "    pajek_synth_shuf, order = multilayer_network_with_L_samples(G_arr, L, shuf=True)\n",
    "\n",
    "    # Run infomap\n",
    "    print \"\\t    --- Running Infomap (T=%d)\" % T\n",
    "    _, _layer_commu_pred_NFC, _, _ = Infomap(\n",
    "        pajek_synth,\n",
    "        '-i',\n",
    "        'multiplex',\n",
    "        '--multiplex-js-relax-rate', '0.25',\n",
    "        '--overlapping',\n",
    "        '--expanded',\n",
    "        '--clu',\n",
    "        '--two-level',\n",
    "        '-z',\n",
    "        'pidNFC_%d' % random.randint(0, 100000000)\n",
    "    )\n",
    "    _, _layer_commu_pred_FC, _, _ = Infomap(\n",
    "        pajek_synth,\n",
    "        '-i',\n",
    "        'multiplex',\n",
    "        '--multiplex-relax-rate', '0.25',\n",
    "        '--overlapping',\n",
    "        '--expanded',\n",
    "        '--clu',\n",
    "        '--two-level',\n",
    "        '-z',\n",
    "        'pidFC_%d' % random.randint(0, 100000000)\n",
    "    )\n",
    "    _, _layer_commu_pred_AC, _, _ = Infomap(\n",
    "        pajek_synth,\n",
    "        '-i',\n",
    "        'multiplex',\n",
    "        '--multiplex-relax-rate', '0.25',\n",
    "        '--multiplex-relax-limit', '1'\n",
    "        '--overlapping',\n",
    "        '--expanded',\n",
    "        '--clu',\n",
    "        '--two-level',\n",
    "        '-z',\n",
    "        'pidAC_%d' % random.randint(0, 100000000)\n",
    "    )\n",
    "    _layer_commu_pred_ACshuf = reorder_shuffled_layer_commu(\n",
    "        Infomap(\n",
    "            pajek_synth_shuf,\n",
    "            '-i',\n",
    "            'multiplex',\n",
    "            '--multiplex-relax-rate', '0.25',\n",
    "            '--multiplex-relax-limit', '1'\n",
    "            '--overlapping',\n",
    "            '--expanded',\n",
    "            '--clu',\n",
    "            '--two-level',\n",
    "            '-z',\n",
    "            'pidACshuf_%d' % random.randint(0, 100000000)\n",
    "        )[1],\n",
    "        order\n",
    "    )\n",
    "    \n",
    "    _, _layer_commu_pred_NC, _, _ = Infomap(\n",
    "        pajek_synth,\n",
    "        '-i',\n",
    "        'multiplex',\n",
    "        '--multiplex-relax-rate', '0.0',\n",
    "        '--multiplex-relax-limit', '1'\n",
    "        '--overlapping',\n",
    "        '--expanded',\n",
    "        '--clu',\n",
    "        '--two-level',\n",
    "        '-z',\n",
    "        'pidAC_%d' % random.randint(0, 100000000)\n",
    "    )\n",
    "    \n",
    "    print \"\\t    --> Infomap done! (T=%d)\" % T\n",
    "\n",
    "    return _layer_commu_pred_NFC, _layer_commu_pred_FC, _layer_commu_pred_AC, _layer_commu_pred_ACshuf, _layer_commu_pred_NC, partitions, T, G_arr\n",
    "\n",
    "\n",
    "def NMI_vs_L(T_arr, L, LFR_params, parallel, n_procs):\n",
    "\n",
    "    # Prepare input data for _worker\n",
    "    print \"\\t... Preparing input data\"\n",
    "    data = [\n",
    "        [T, L, [LFR_benchmark_graph(**LFR_params) for _ in range(T)]]\n",
    "        for T in sorted(T_arr, reverse=True)\n",
    "    ]\n",
    "\n",
    "    if parallel:\n",
    "        # Pool all processes\n",
    "        print \"\\t... Pooling %d processes\" % len(data)\n",
    "        p = Pool(n_procs)\n",
    "        res = p.map(worker, data)\n",
    "        p.close()\n",
    "    else:\n",
    "        print \"\\t... Processing serially\"\n",
    "        res = map(worker, data)\n",
    "    \n",
    "    # Extract NMI\n",
    "    print \"\\t--> DONE! Extracting data and returning output\"\n",
    "    T_arr_iter, NMI_NFC_arr_iter, NMI_FC_arr_iter, NMI_AC_arr_iter, NMI_ACshuf_arr_iter, NMI_NC_arr_iter = [], [], [], [], [], []\n",
    "    for _layer_commu_pred_NFC, _layer_commu_pred_FC, _layer_commu_pred_AC, _layer_commu_pred_ACshuf, _layer_commu_pred_NC, partitions, T, G_arr in sorted(res, key=lambda tup: tup[-2]):\n",
    "        T_arr_iter.append(T)\n",
    "        NMI_NFC_arr_iter.append(multiplex_AMI(_layer_commu_pred_NFC, L, partitions))\n",
    "        NMI_FC_arr_iter.append(multiplex_AMI(_layer_commu_pred_FC, L, partitions))\n",
    "        NMI_AC_arr_iter.append(multiplex_AMI(_layer_commu_pred_AC, L, partitions))\n",
    "        NMI_ACshuf_arr_iter.append(multiplex_AMI(_layer_commu_pred_ACshuf, L, partitions))\n",
    "        NMI_NC_arr_iter.append(multiplex_AMI(_layer_commu_pred_NC, L, partitions))\n",
    "\n",
    "    return T_arr_iter, NMI_NFC_arr_iter, NMI_FC_arr_iter, NMI_AC_arr_iter, NMI_ACshuf_arr_iter, NMI_NC_arr_iter\n",
    "\n",
    "def run_simulation(T_arr, L, LFR_params, parallel, n_procs, n_iter, *args):\n",
    "    \n",
    "    if args == ():\n",
    "        T_arr_out, NFC, FC, AC, ACshuf, NC = [], [], [], [], [], []\n",
    "    else:\n",
    "        T_arr_out, NFC, FC, AC, ACshuf, NC = args\n",
    "    \n",
    "    for i in range(n_iter):\n",
    "        print \"Iteration %d\" % (i+1)\n",
    "        T_arr_iter, NMI_NFC_arr_iter, NMI_FC_arr_iter, NMI_AC_arr_iter, NMI_ACshuf_arr_iter, NMI_NC_arr_iter = NMI_vs_L(T_arr, L, LFR_params, parallel, n_procs)\n",
    "        T_arr_out.append(T_arr_iter)\n",
    "        NFC.append(NMI_NFC_arr_iter)\n",
    "        FC.append(NMI_FC_arr_iter)\n",
    "        AC.append(NMI_AC_arr_iter)\n",
    "        ACshuf.append(NMI_ACshuf_arr_iter)\n",
    "        NC.append(NMI_NC_arr_iter)\n",
    "            \n",
    "    return T_arr_out, NFC, FC, AC, ACshuf, NC"
   ]
  },
  {
   "cell_type": "markdown",
   "metadata": {},
   "source": [
    "### Parameters"
   ]
  },
  {
   "cell_type": "code",
   "execution_count": 43,
   "metadata": {
    "collapsed": true
   },
   "outputs": [],
   "source": [
    "L = 5\n",
    "n_iter = 1\n",
    "T_arr = range(1, 10) + range(10, 20, 2) + range(20, 30, 5) + range(30, 60, 10)\n",
    "LFR_params = dict(N=128, k=16, maxk=32, mu=0.05, t1=2.5, t2=1.5)"
   ]
  },
  {
   "cell_type": "markdown",
   "metadata": {},
   "source": [
    "### Run"
   ]
  },
  {
   "cell_type": "code",
   "execution_count": 44,
   "metadata": {},
   "outputs": [
    {
     "name": "stdout",
     "output_type": "stream",
     "text": [
      "Iteration 1\n",
      "\t... Preparing input data\n",
      "\t... Pooling 19 processes\n",
      "\t    --- Running Infomap (T=16)\n",
      "\t    --- Running Infomap (T=18)\n",
      "\t    --- Running Infomap (T=14)\n",
      "\t    --- Running Infomap (T=20)\n",
      "\t    --- Running Infomap (T=25)\n",
      "\t    --- Running Infomap (T=30)\n",
      "\t    --- Running Infomap (T=40)\n",
      "\t    --- Running Infomap (T=50)\n",
      "\t    --> Infomap done! (T=16)\n",
      "\t    --> Infomap done! (T=18)\n",
      "\t    --- Running Infomap (T=12)\n",
      "\t    --- Running Infomap (T=10)\n",
      "\t    --> Infomap done! (T=14)\n",
      "\t    --- Running Infomap (T=9)\n",
      "\t    --> Infomap done! (T=10)\n",
      "\t    --- Running Infomap (T=8)\n",
      "\t    --> Infomap done! (T=12)\n",
      "\t    --- Running Infomap (T=7)\n",
      "\t    --> Infomap done! (T=20)\n",
      "\t    --- Running Infomap (T=6)\n",
      "\t    --> Infomap done! (T=9)\n",
      "\t    --- Running Infomap (T=5)\n",
      "\t    --> Infomap done! (T=8)\n",
      "\t    --- Running Infomap (T=4)\n",
      "\t    --> Infomap done! (T=4)\n",
      "\t    --- Running Infomap (T=3)\n",
      "\t    --> Infomap done! (T=7)\n",
      "\t    --- Running Infomap (T=2)\n",
      "\t    --> Infomap done! (T=5)\n",
      "\t    --- Running Infomap (T=1)\n",
      "\t    --> Infomap done! (T=2)\n",
      "\t    --> Infomap done! (T=1)\n",
      "\t    --> Infomap done! (T=3)\n",
      "\t    --> Infomap done! (T=6)\n",
      "\t    --> Infomap done! (T=25)\n",
      "\t    --> Infomap done! (T=30)\n",
      "\t    --> Infomap done! (T=40)\n",
      "\t    --> Infomap done! (T=50)\n",
      "\t--> DONE! Extracting data and returning output\n"
     ]
    }
   ],
   "source": [
    "T_arr_out, NFCL5, FCL5, ACL5, ACshufL5, NCL5 = run_simulation(T_arr, L, LFR_params, True, 8, 1)  # 1 iteration about takes 8m 31s"
   ]
  },
  {
   "cell_type": "markdown",
   "metadata": {},
   "source": [
    "### Visualize"
   ]
  },
  {
   "cell_type": "code",
   "execution_count": 47,
   "metadata": {},
   "outputs": [
    {
     "name": "stderr",
     "output_type": "stream",
     "text": [
      "/Users/ulfaslak/anaconda2/lib/python2.7/site-packages/numpy/core/_methods.py:135: RuntimeWarning: Degrees of freedom <= 0 for slice\n",
      "  keepdims=keepdims)\n",
      "/Users/ulfaslak/anaconda2/lib/python2.7/site-packages/numpy/core/_methods.py:125: RuntimeWarning: invalid value encountered in true_divide\n",
      "  ret, rcount, out=ret, casting='unsafe', subok=False)\n",
      "/Users/ulfaslak/anaconda2/lib/python2.7/site-packages/scipy/stats/_distn_infrastructure.py:1900: RuntimeWarning: invalid value encountered in greater\n",
      "  cond0 = self._argcheck(*args) & (scale > 0) & (loc == loc)\n"
     ]
    },
    {
     "data": {
      "text/plain": [
       "<matplotlib.figure.Figure at 0x10f6f49d0>"
      ]
     },
     "metadata": {},
     "output_type": "display_data"
    },
    {
     "data": {
      "image/png": "[encoded data removed]",
      "text/plain": [
       "<matplotlib.figure.Figure at 0x10f6b9e90>"
      ]
     },
     "metadata": {},
     "output_type": "display_data"
    }
   ],
   "source": [
    "plt.figure(None, figsize=(3.42/2.0, 1.2), frameon=False)\n",
    "confidence_intervals(T_arr_out, NFCL5, c=\"#d35400\", label=\"NFC\", lw=0.5)\n",
    "confidence_intervals(T_arr_out, FCL5, c=\"#2980b9\", label=\"FC\", lw=0.5)\n",
    "confidence_intervals(T_arr_out, ACL5, c=\"#16a085\", label=\"AC\", lw=0.5)\n",
    "confidence_intervals(T_arr_out, ACshufL5, c=\"#16a085\", label=\"AC (shuffled)\", lw=0.5, ls=\"--\")\n",
    "confidence_intervals(T_arr_out, NCL5, c=\"#f39c12\", label=\"NC\", lw=0.5)\n",
    "\n",
    "plt.xlim(0, 50)\n",
    "plt.ylim(0.0, 1)\n",
    "\n",
    "#plt.yticks([0.7, 0.8, 0.9, 1.0]) \n",
    "\n",
    "plt.title(\"$L=5$\")\n",
    "plt.xlabel(\"Network modes, $T$\")\n",
    "plt.ylabel(\"Multiplex NMI\")\n",
    "\n",
    "plt.savefig(\"figures/Fig4c.pdf\")\n",
    "plt.show()"
   ]
  },
  {
   "cell_type": "code",
   "execution_count": null,
   "metadata": {
    "collapsed": true
   },
   "outputs": [],
   "source": []
  }
 ],
 "metadata": {
  "kernelspec": {
   "display_name": "Python 2",
   "language": "python",
   "name": "python2"
  },
  "language_info": {
   "codemirror_mode": {
    "name": "ipython",
    "version": 2
   },
   "file_extension": ".py",
   "mimetype": "text/x-python",
   "name": "python",
   "nbconvert_exporter": "python",
   "pygments_lexer": "ipython2",
   "version": "2.7.14"
  }
 },
 "nbformat": 4,
 "nbformat_minor": 1
}
