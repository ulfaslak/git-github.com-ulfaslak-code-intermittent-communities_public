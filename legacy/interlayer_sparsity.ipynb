{
 "cells": [
  {
   "cell_type": "code",
   "execution_count": 144,
   "metadata": {
    "ExecuteTime": {
     "end_time": "2017-10-09T16:06:32.384247Z",
     "start_time": "2017-10-09T16:06:32.236146Z"
    },
    "collapsed": true,
    "run_control": {
     "frozen": false,
     "read_only": false
    }
   },
   "outputs": [],
   "source": [
    "%matplotlib inline\n",
    "import networkx as nx\n",
    "import community\n",
    "import random\n",
    "import matplotlib.pylab as plt\n",
    "import pandas as pd\n",
    "import numpy as np\n",
    "from random import choice\n",
    "import subprocess\n",
    "import re\n",
    "from collections import defaultdict\n",
    "from ulf import ulf"
   ]
  },
  {
   "cell_type": "markdown",
   "metadata": {},
   "source": [
    "# Experiment 1"
   ]
  },
  {
   "cell_type": "code",
   "execution_count": 597,
   "metadata": {
    "ExecuteTime": {
     "end_time": "2017-10-10T07:55:43.695683Z",
     "start_time": "2017-10-10T07:55:43.612848Z"
    },
    "collapsed": true,
    "run_control": {
     "frozen": false,
     "read_only": false
    }
   },
   "outputs": [],
   "source": [
    "def graphlist_to_pajek(graphlist):\n",
    "    edgelist = []\n",
    "    for l, G in enumerate(graphlist):\n",
    "        for n1, n2 in G.edges():\n",
    "            edgelist.append([l, n1, n2])\n",
    "    return ulf.write_pajek(pd.DataFrame(edgelist, columns=['layer', 'node1', 'node2']))\n",
    "            \n",
    "\n",
    "# def morph_from_G1_to_G2(G, Gt, num_swaps):\n",
    "#     \"\"\"Exchanges num_swaps edges from G with num_swap edges from Gt\"\"\"\n",
    "#     def _dependent_edge_swaps(Gs, Gt):\n",
    "        \n",
    "#         Gc = Gs.copy()\n",
    "        \n",
    "#         empty = 0\n",
    "#         done = False\n",
    "        \n",
    "#         try:\n",
    "#             u, x = choice(list(set(Gc.edges()) - set(Gt.edges())))  # REMOVE random edge not in Gt\n",
    "#             Gc.remove_edge(u, x)\n",
    "#         except IndexError:\n",
    "#             done += 1\n",
    "        \n",
    "#         try:\n",
    "#             v, y = choice(list(set(Gt.edges()) - set(Gc.edges())))  # ADD random edge not in Gc\n",
    "#             d = Gt.get_edge_data(v, y)\n",
    "#             Gc.add_edge(v, y, d)\n",
    "#         except IndexError:\n",
    "#             done += 1\n",
    "        \n",
    "#         if done == 2:\n",
    "#             done = True\n",
    "            \n",
    "#         return Gc, done\n",
    "    \n",
    "#     def _jaccard_sim(a, b):\n",
    "#         return len(a & b) * 1.0 / len(a | b)\n",
    "    \n",
    "#     Gs = G.copy()\n",
    "    \n",
    "#     for _ in range(num_swaps):\n",
    "        \n",
    "#         Gs, done = _dependent_edge_swaps(Gs, Gt)\n",
    "        \n",
    "#         if done:\n",
    "#             if _jaccard_sim(set(Gs.edges()), set(Gt.edges())) != 1:\n",
    "#                 Gs = Gt\n",
    "#             break\n",
    "#     return Gs\n",
    "\n",
    "def morph_from_G1_to_G2(Gs, Gt, num_swaps):\n",
    "\n",
    "    Gc = Gs.copy()\n",
    "    Gt = Gt.copy()\n",
    "\n",
    "    edges_in_Gc_not_in_Gt = list(set(Gc.edges()) - set(Gt.edges()))\n",
    "    num_removals_possible = min(num_swaps, len(edges_in_Gc_not_in_Gt))\n",
    "    u_x = random.sample(edges_in_Gc_not_in_Gt, num_removals_possible)\n",
    "    Gc.remove_edges_from(u_x)\n",
    "\n",
    "    edges_in_Gt_not_in_Gc = list(set(Gt.edges()) - set(Gc.edges()))\n",
    "    num_additions_possible = min(num_swaps, len(edges_in_Gt_not_in_Gc))\n",
    "    v_y = random.sample(edges_in_Gt_not_in_Gc, num_additions_possible)\n",
    "    Gc.add_edges_from(v_y)\n",
    "\n",
    "    def _jaccard_sim(a, b):\n",
    "        return len(a & b) * 1.0 / len(a | b)\n",
    "    \n",
    "    if num_removals_possible != num_swaps & num_additions_possible != num_swaps:\n",
    "        if _jaccard_sim(set(Gc.edges()), set(Gt.edges())) != 1:\n",
    "            Gc = Gt\n",
    "\n",
    "    return Gc\n",
    "\n",
    "def create_planted_partition_graph(l, k, p_in, p_out):\n",
    "    def _get_shuffle_mapping(G):\n",
    "        nodes = G.nodes()[:]\n",
    "        nodes_shuf = G.nodes()[:]; random.shuffle(nodes_shuf)\n",
    "        return dict(zip(nodes, nodes_shuf))\n",
    "    G = nx.planted_partition_graph(l, k, p_in, p_out)\n",
    "    G = nx.relabel_nodes(G, _get_shuffle_mapping(G))\n",
    "    partition = community.best_partition(G)\n",
    "    return G, partition\n",
    "\n",
    "def get_random_G(num_c, num_nc, max_k):\n",
    "    G = create_planted_partition_graph(num_c, num_nc, 1.0, 0.0/num_c)[0]\n",
    "    while np.mean(G.degree().values()) > max_k:\n",
    "        G.remove_edge(*random.choice(G.edges()))\n",
    "    return G\n",
    "\n",
    "def P(pid):\n",
    "    \"\"\"Extract number of interlayer links.\"\"\"\n",
    "    with open(\"/tmp/output_infomap/tmpnet%d.net\" % pid) as fp:\n",
    "        net = fp.read()\n",
    "    subprocess.call([\"rm\", \"/tmp/output_infomap/tmpnet%d.net\" % pid])\n",
    "\n",
    "    interlayer_links = 0\n",
    "    for l in re.findall(r\"\\d+ \\d+ \\d+ \\d+ \\d.*\\d*\", net):\n",
    "        l = map(eval, l.split())\n",
    "        if l[0] != l[2]:\n",
    "            interlayer_links += 1\n",
    "\n",
    "    return interlayer_links\n",
    "    \n",
    "def run_Infomap(pajek, pid, method):\n",
    "    ulf.Infomap(\n",
    "        pajek,\n",
    "        '-i', 'multiplex',\n",
    "        '--multiplex%s-relax-rate' % method, \"1.0\",\n",
    "        '--overlapping',\n",
    "        '--expanded',\n",
    "        '--clu', '--pajek',\n",
    "        '-z', '--two-level',\n",
    "        \"pid%d\" % pid\n",
    "    )"
   ]
  },
  {
   "cell_type": "code",
   "execution_count": null,
   "metadata": {
    "ExecuteTime": {
     "end_time": "2017-10-09T20:47:13.897584Z",
     "start_time": "2017-10-09T20:45:02.394189Z"
    },
    "collapsed": true,
    "run_control": {
     "frozen": false,
     "read_only": false
    }
   },
   "outputs": [],
   "source": [
    "num_nc_arr = [1] #range(2, 10)\n",
    "num_c_arr = [900 / num_nc for num_nc in num_nc_arr]\n",
    "\n",
    "#data = defaultdict(dict)\n",
    "\n",
    "for num_c, num_nc in zip(num_c_arr, num_nc_arr):\n",
    "    print num_c, num_nc\n",
    "    \n",
    "    num_e = num_nc * (num_nc - 1) / 2 * num_c\n",
    "\n",
    "    # Networks\n",
    "    G_alpha = get_random_G(num_c, num_nc)\n",
    "    G_beta = G_alpha.copy()\n",
    "    G_beta_target = get_random_G(num_c, num_nc)\n",
    "\n",
    "    # Values to loop over\n",
    "    swap_vals = range(0, num_e, 10) + [num_e]\n",
    "\n",
    "    # Results array\n",
    "    lambda_, S = [], []\n",
    "\n",
    "    prev_n_swaps = 0\n",
    "    for n_swaps in swap_vals:\n",
    "        G_beta = morph_from_G1_to_G2(G_beta, G_beta_target, (n_swaps - prev_n_swaps))\n",
    "\n",
    "        # Store number of swaps\n",
    "        prev_n_swaps = n_swaps\n",
    "\n",
    "        # Make pajek representation of multilayer network\n",
    "        pajek = graphlist_to_pajek([G_alpha, G_beta])\n",
    "\n",
    "        # Create unique process ids\n",
    "        pid_NFC = np.random.randint(int(1e12))\n",
    "        pid_FC = np.random.randint(int(1e12))\n",
    "\n",
    "        # Run Infomap\n",
    "        run_Infomap(pajek, pid_NFC, \"-js\")\n",
    "        run_Infomap(pajek, pid_FC, \"\")\n",
    "\n",
    "        nl_NFC = P(pid_NFC)\n",
    "        nl_FC = P(pid_FC)\n",
    "\n",
    "        lambda_.append(n_swaps * 1.0 / num_e)\n",
    "        S.append(nl_NFC * 1.0 / nl_FC)\n",
    "        \n",
    "    data[(num_c, num_nc)]['lambda_'] = lambda_\n",
    "    data[(num_c, num_nc)]['S'] = S"
   ]
  },
  {
   "cell_type": "code",
   "execution_count": null,
   "metadata": {
    "ExecuteTime": {
     "end_time": "2017-10-09T20:47:16.733156Z",
     "start_time": "2017-10-09T20:47:16.490334Z"
    },
    "collapsed": true,
    "run_control": {
     "frozen": false,
     "read_only": false
    }
   },
   "outputs": [],
   "source": [
    "plt.figure(figsize=(3.42, 2.0), frameon=False)\n",
    "cmap = ulf.cmap_in_range([-1, 9], cmap_style=\"Blues\")\n",
    "for (num_c, num_nc), data_iter in data.items():\n",
    "    plt.plot(data_iter['lambda_'], data_iter['S'], label=\"$C=$%d, $N_c=$%d\" % (num_c, num_nc), c=cmap(num_nc))\n",
    "#plt.legend(fontsize=8)\n",
    "#plt.legend()\n",
    "plt.xlabel(\"$\\lambda$\")\n",
    "plt.ylabel(\"$S$\")\n",
    "#plt.savefig(\"figures/inserlayer_sparsity.pdf\")\n",
    "plt.show()"
   ]
  },
  {
   "cell_type": "markdown",
   "metadata": {},
   "source": [
    "# Experiment 2"
   ]
  },
  {
   "cell_type": "code",
   "execution_count": 625,
   "metadata": {
    "ExecuteTime": {
     "end_time": "2017-10-10T13:40:53.036463Z",
     "start_time": "2017-10-10T13:30:11.144967Z"
    },
    "run_control": {
     "frozen": false,
     "read_only": false
    },
    "scrolled": true
   },
   "outputs": [
    {
     "name": "stdout",
     "output_type": "stream",
     "text": [
      "11\n",
      "0 274 548 822 1096 1370 1644 1918 2192 2466 2741 3015 3289 3563 3837 4111 4385 4659 4933 5207 5482\n",
      "12\n",
      "0 303 607 911 1215 1519 1822 2126 2430 2734 3038 3341 3645 3949 4253 4557 4860 5164 5468 5772 6076\n",
      "13\n",
      "0 325 650 975 1300 1626 1951 2276 2601 2926 3252 3577 3902 4227 4552 4878 5203 5528 5853 6178 6504\n",
      "14\n",
      "0 343 686 1030 1373 1717 2060 2404 2747 3091 3434 3777 4121 4464 4808 5151 5495 5838 6182 6525 6869\n",
      "17\n",
      "0 422 844 1266 1689 2111 2533 2955 3378 3800 4222 4644 5067 5489 5911 6333 6756 7178 7600 8022 8445\n"
     ]
    }
   ],
   "source": [
    "def compute_jsdiv(G_alpha, G_beta):\n",
    "    jsdiv = []\n",
    "    for n in G_alpha.nodes():\n",
    "        G_alpha_n = set(G_alpha.neighbors(n))\n",
    "        G_beta_n = set(G_beta.neighbors(n))\n",
    "        P_dist = sorted(G_alpha_n | G_beta_n)\n",
    "        p_alpha = [1./len(G_alpha_n) if n in G_alpha_n else 0 for n in P_dist]\n",
    "        p_beta = [1./len(G_beta_n) if n in G_beta_n else 0 for n in P_dist]\n",
    "        jsdiv.append(\n",
    "            1. if len(G_alpha_n) == 0 or len(G_beta_n) == 0 else\n",
    "            ulf.jsdiv(p_alpha, p_beta)\n",
    "        )\n",
    "        \n",
    "    set_alpha = set(G_alpha.edges())\n",
    "    set_beta = set(G_beta.edges())\n",
    "    \n",
    "    return np.mean(jsdiv), 1 - len(set_alpha & set_beta) * 1.0 / len(set_alpha | set_beta)\n",
    "\n",
    "#data = defaultdict(dict)\n",
    "\n",
    "#for k in range(1, 10) + range(10, 55, 5):\n",
    "for k in [11, 12, 13, 14, 17]:\n",
    "    print k\n",
    "\n",
    "    # Networks\n",
    "    G_alpha = nx.erdos_renyi_graph(1000, k/1000.)\n",
    "    G_beta = G_alpha.copy()\n",
    "    G_beta_target = nx.erdos_renyi_graph(1000, k/1000.)\n",
    "\n",
    "    # Values to loop over\n",
    "    swap_vals = map(int, np.linspace(0, len(G_alpha.edges()), 21))\n",
    "\n",
    "    # Results array\n",
    "    jsdiv, jacca, S = [], [], []\n",
    "\n",
    "    prev_n_swaps = 0\n",
    "    for n_swaps in swap_vals:\n",
    "        print n_swaps,\n",
    "        #print \"0\",\n",
    "        G_beta = morph_from_G1_to_G2(G_beta, G_beta_target, (n_swaps - prev_n_swaps))\n",
    "\n",
    "        # Store number of swaps\n",
    "        prev_n_swaps = n_swaps\n",
    "\n",
    "        # Make pajek representation of multilayer network\n",
    "        #print \"1\",\n",
    "        pajek = graphlist_to_pajek([G_alpha, G_beta])\n",
    "\n",
    "        # Create unique process ids\n",
    "        pid_NFC = np.random.randint(int(1e12))\n",
    "        pid_FC = np.random.randint(int(1e12))\n",
    "\n",
    "        # Run Infomap\n",
    "        #print \"2\",\n",
    "        run_Infomap(pajek, pid_NFC, \"-js\")\n",
    "        run_Infomap(pajek, pid_FC, \"\")\n",
    "        \n",
    "        # Compute iteration similarity\n",
    "        #print \"3\",\n",
    "        jsdiv_, jacca_ = compute_jacca_jsdiv(G_alpha, G_beta)\n",
    "        jsdiv.append(jsdiv_)\n",
    "        jacca.append(jacca_)\n",
    "        \n",
    "        # Parse .net files\n",
    "        #print \"4\"\n",
    "        nl_NFC = P(pid_NFC)\n",
    "        nl_FC = P(pid_FC)\n",
    "        S.append(nl_NFC * 1.0 / nl_FC)\n",
    "        \n",
    "    print\n",
    "        \n",
    "    data[k]['jsdiv'] = jsdiv\n",
    "    data[k]['jacca'] = jacca\n",
    "    data[k]['S'] = S"
   ]
  },
  {
   "cell_type": "code",
   "execution_count": null,
   "metadata": {
    "collapsed": true,
    "run_control": {
     "frozen": false,
     "read_only": false
    }
   },
   "outputs": [],
   "source": [
    "rgb(192, 57, 43)"
   ]
  },
  {
   "cell_type": "code",
   "execution_count": 656,
   "metadata": {
    "ExecuteTime": {
     "end_time": "2017-10-10T15:28:19.689702Z",
     "start_time": "2017-10-10T15:28:19.683510Z"
    },
    "run_control": {
     "frozen": false,
     "read_only": false
    }
   },
   "outputs": [
    {
     "name": "stdout",
     "output_type": "stream",
     "text": [
      "0.75\n",
      "0.22265625\n",
      "0.16796875\n",
      "\n",
      "0.9765625\n",
      "0.859375\n",
      "0.84765625\n"
     ]
    }
   ],
   "source": [
    "print 192./256\n",
    "print 57./256\n",
    "print 43./256\n",
    "print\n",
    "print 250./256\n",
    "print 220./256\n",
    "print 217./256"
   ]
  },
  {
   "cell_type": "code",
   "execution_count": 657,
   "metadata": {
    "ExecuteTime": {
     "end_time": "2017-10-10T15:28:42.634484Z",
     "start_time": "2017-10-10T15:28:42.627718Z"
    },
    "collapsed": true,
    "run_control": {
     "frozen": false,
     "read_only": false
    }
   },
   "outputs": [],
   "source": [
    "from matplotlib.colors import LinearSegmentedColormap\n",
    "\n",
    "cdict1 = {\n",
    "    'red':   ((0.0, 0.976, 0.976),\n",
    "              (1.0, 0.75, 0.75)),\n",
    "\n",
    "    'green': ((0.0, 0.86, 0.86),\n",
    "              (1.0, 0.22, 0.22)),\n",
    "\n",
    "    'blue':  ((0.0, 0.85, 0.85),\n",
    "              (1.0, 0.17, 0.17)),\n",
    "}\n",
    "\n",
    "soft_reds = LinearSegmentedColormap('BlackWhiteBlack', cdict1)"
   ]
  },
  {
   "cell_type": "code",
   "execution_count": 661,
   "metadata": {
    "ExecuteTime": {
     "end_time": "2017-10-10T15:30:41.272238Z",
     "start_time": "2017-10-10T15:30:38.374227Z"
    },
    "run_control": {
     "frozen": false,
     "read_only": false
    }
   },
   "outputs": [
    {
     "data": {
      "image/png": "[encoded data removed]",
      "text/plain": [
       "<matplotlib.figure.Figure at 0x119a46150>"
      ]
     },
     "metadata": {},
     "output_type": "display_data"
    }
   ],
   "source": [
    "plt.figure(figsize=(3.42, 2.0), frameon=False)\n",
    "cmap_b = ulf.cmap_in_categories(range(1, 16) + [17] + range(20, 55, 5), cmap_style=soft_reds)\n",
    "for k, data_iter in data.items():\n",
    "    if k >= 1:\n",
    "        plt.plot(data_iter['jsdiv'], data_iter['S'], label=\"$<k>=$%s\" % str(k), c=cmap_b(k))\n",
    "plt.legend()\n",
    "plt.xlim(0, 1)\n",
    "plt.ylim(0, 1)\n",
    "plt.xlabel(\"$\\lambda$\")\n",
    "plt.ylabel(\"$S$\")\n",
    "plt.savefig(\"figures/interlayer_sparsity.pdf\")\n",
    "plt.show()"
   ]
  },
  {
   "cell_type": "code",
   "execution_count": 609,
   "metadata": {
    "ExecuteTime": {
     "end_time": "2017-10-10T12:15:17.360644Z",
     "start_time": "2017-10-10T12:15:17.075871Z"
    },
    "run_control": {
     "frozen": false,
     "read_only": false
    }
   },
   "outputs": [
    {
     "data": {
      "image/png": "[encoded data removed]",
      "text/plain": [
       "<matplotlib.figure.Figure at 0x115d4f450>"
      ]
     },
     "metadata": {},
     "output_type": "display_data"
    },
    {
     "name": "stdout",
     "output_type": "stream",
     "text": [
      "\n"
     ]
    }
   ],
   "source": [
    "plt.figure(figsize=(3.42, 2.0), frameon=False)\n",
    "cmap_b = ulf.cmap_in_range([min(data)-10, max(data)], cmap_style=\"Blues\")\n",
    "for k, data_iter in data.items():\n",
    "    if k >= 1:\n",
    "        plt.plot(data_iter['jsdiv'], data_iter['S'], label=\"$<k>=$%s\" % str(k), c=cmap_b(k))\n",
    "#plt.legend()\n",
    "plt.xlim(0, 1)\n",
    "plt.ylim(0, 1)\n",
    "plt.xlabel(\"$\\lambda$\")\n",
    "plt.ylabel(\"$S$\")\n",
    "#plt.savefig(\"figures/interlayer_sparsity.pdf\")\n",
    "plt.show()"
   ]
  },
  {
   "cell_type": "code",
   "execution_count": 607,
   "metadata": {
    "ExecuteTime": {
     "end_time": "2017-10-10T12:10:22.628819Z",
     "start_time": "2017-10-10T12:10:22.173660Z"
    },
    "run_control": {
     "frozen": false,
     "read_only": false
    }
   },
   "outputs": [
    {
     "data": {
      "image/png": "[encoded data removed]",
      "text/plain": [
       "<matplotlib.figure.Figure at 0x113fab0d0>"
      ]
     },
     "metadata": {},
     "output_type": "display_data"
    }
   ],
   "source": [
    "plt.figure(figsize=(3.42, 2.0), frameon=False)\n",
    "cmap_b = ulf.cmap_in_range([min(data)-10, max(data)], cmap_style=\"Blues\")\n",
    "for k, data_iter in data.items():\n",
    "    if k >= 1:\n",
    "        plt.plot(data_iter['jsdiv'], data_iter['S'], label=\"$<k>=$%s\" % str(k), c=cmap_b(k))\n",
    "#plt.legend()\n",
    "plt.xlim(0, 1)\n",
    "plt.ylim(0, 1)\n",
    "plt.xlabel(\"$\\lambda$\")\n",
    "plt.ylabel(\"$S$\")\n",
    "#plt.savefig(\"figures/interlayer_sparsity.pdf\")\n",
    "plt.show()"
   ]
  },
  {
   "cell_type": "code",
   "execution_count": null,
   "metadata": {
    "collapsed": true,
    "run_control": {
     "frozen": false,
     "read_only": false
    }
   },
   "outputs": [],
   "source": [
    "def morph_from_G1_to_G2(G, Gt, num_swaps):\n",
    "    \"\"\"Exchanges num_swaps edges from G with num_swap edges from Gt\"\"\"\n",
    "    def _dependent_edge_swaps(Gs, Gt):\n",
    "        \n",
    "        Gc = Gs.copy()\n",
    "        \n",
    "        empty = 0\n",
    "        done = False\n",
    "        \n",
    "        try:\n",
    "            u, x = choice(list(set(Gc.edges()) - set(Gt.edges())))  # REMOVE random edge not in Gt\n",
    "            Gc.remove_edge(u, x)\n",
    "        except IndexError:\n",
    "            done += 1\n",
    "        \n",
    "        try:\n",
    "            v, y = choice(list(set(Gt.edges()) - set(Gc.edges())))  # ADD random edge not in Gc\n",
    "            d = Gt.get_edge_data(v, y)\n",
    "            Gc.add_edge(v, y, d)\n",
    "        except IndexError:\n",
    "            done += 1\n",
    "        \n",
    "        if done == 2:\n",
    "            done = True\n",
    "            \n",
    "        return Gc, done\n",
    "    \n",
    "    def _jaccard_sim(a, b):\n",
    "        return len(a & b) * 1.0 / len(a | b)\n",
    "    \n",
    "    Gs = G.copy()\n",
    "    \n",
    "    for _ in range(num_swaps):\n",
    "        \n",
    "        Gs, done = _dependent_edge_swaps(Gs, Gt)\n",
    "        \n",
    "        if done:\n",
    "            if _jaccard_sim(set(Gs.edges()), set(Gt.edges())) != 1:\n",
    "                Gs = Gt\n",
    "            break\n",
    "    return Gs\n",
    "\n"
   ]
  },
  {
   "cell_type": "code",
   "execution_count": 588,
   "metadata": {
    "ExecuteTime": {
     "end_time": "2017-10-10T07:54:51.660550Z",
     "start_time": "2017-10-10T07:54:51.646539Z"
    },
    "collapsed": true,
    "run_control": {
     "frozen": false,
     "read_only": false
    }
   },
   "outputs": [],
   "source": [
    "def morph_from_G1_to_G2(Gs, Gt, num_swaps):\n",
    "\n",
    "    Gc = Gs.copy()\n",
    "    Gt = Gt.copy()\n",
    "\n",
    "    edges_in_Gc_not_in_Gt = list(set(Gc.edges()) - set(Gt.edges()))\n",
    "    num_removals_possible = min(num_swaps, len(edges_in_Gc_not_in_Gt))\n",
    "    u_x = random.sample(edges_in_Gc_not_in_Gt, num_removals_possible)\n",
    "    Gc.remove_edges_from(u_x)\n",
    "\n",
    "    edges_in_Gt_not_in_Gc = list(set(Gt.edges()) - set(Gc.edges()))\n",
    "    num_additions_possible = min(num_swaps, len(edges_in_Gt_not_in_Gc))\n",
    "    v_y = random.sample(edges_in_Gt_not_in_Gc, num_additions_possible)\n",
    "    Gc.add_edges_from(v_y)\n",
    "\n",
    "    def _jaccard_sim(a, b):\n",
    "        return len(a & b) * 1.0 / len(a | b)\n",
    "    \n",
    "    if num_removals_possible != num_swaps & num_additions_possible != num_swaps:\n",
    "        if _jaccard_sim(set(Gc.edges()), set(Gt.edges())) != 1:\n",
    "            Gc = Gt\n",
    "\n",
    "    return Gc\n",
    "\n"
   ]
  },
  {
   "cell_type": "code",
   "execution_count": 596,
   "metadata": {
    "ExecuteTime": {
     "end_time": "2017-10-10T07:55:21.142335Z",
     "start_time": "2017-10-10T07:55:19.572900Z"
    },
    "run_control": {
     "frozen": false,
     "read_only": false
    }
   },
   "outputs": [
    {
     "data": {
      "image/png": "[encoded data removed]",
      "text/plain": [
       "<matplotlib.figure.Figure at 0x1148d57d0>"
      ]
     },
     "metadata": {},
     "output_type": "display_data"
    }
   ],
   "source": [
    "G1 = get_random_G(3, 5, 100)\n",
    "G2 = get_random_G(3, 5, 100)\n",
    "Gt = morph_from_G1_to_G2(G1, G2, 22)\n",
    "\n",
    "plt.figure(figsize=(10, 3))\n",
    "plt.subplot(1, 3, 1)\n",
    "ulf.draw(G1)\n",
    "plt.subplot(1, 3, 2)\n",
    "ulf.draw(G2)\n",
    "plt.subplot(1, 3, 3)\n",
    "ulf.draw(Gt)\n",
    "plt.show()"
   ]
  },
  {
   "cell_type": "code",
   "execution_count": 538,
   "metadata": {
    "ExecuteTime": {
     "end_time": "2017-10-10T07:49:21.316731Z",
     "start_time": "2017-10-10T07:49:21.306536Z"
    },
    "run_control": {
     "frozen": false,
     "read_only": false
    }
   },
   "outputs": [
    {
     "data": {
      "text/plain": [
       "6715"
      ]
     },
     "execution_count": 538,
     "metadata": {},
     "output_type": "execute_result"
    }
   ],
   "source": [
    "len(Gt.edges())"
   ]
  },
  {
   "cell_type": "code",
   "execution_count": null,
   "metadata": {
    "collapsed": true,
    "run_control": {
     "frozen": false,
     "read_only": false
    }
   },
   "outputs": [],
   "source": []
  }
 ],
 "metadata": {
  "kernelspec": {
   "display_name": "Python 2",
   "language": "python",
   "name": "python2"
  },
  "language_info": {
   "codemirror_mode": {
    "name": "ipython",
    "version": 2
   },
   "file_extension": ".py",
   "mimetype": "text/x-python",
   "name": "python",
   "nbconvert_exporter": "python",
   "pygments_lexer": "ipython2",
   "version": "2.7.13"
  },
  "nav_menu": {},
  "toc": {
   "navigate_menu": true,
   "number_sections": true,
   "sideBar": true,
   "threshold": 6,
   "toc_cell": false,
   "toc_section_display": "block",
   "toc_window_display": false
  }
 },
 "nbformat": 4,
 "nbformat_minor": 1
}
