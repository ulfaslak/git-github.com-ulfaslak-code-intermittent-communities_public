{
 "cells": [
  {
   "cell_type": "markdown",
   "metadata": {},
   "source": [
    "# **Preamble**"
   ]
  },
  {
   "cell_type": "markdown",
   "metadata": {},
   "source": [
    "## Imports"
   ]
  },
  {
   "cell_type": "code",
   "execution_count": 14,
   "metadata": {
    "ExecuteTime": {
     "end_time": "2017-09-04T12:18:00.012579Z",
     "start_time": "2017-09-04T12:18:00.003552Z"
    },
    "collapsed": true,
    "run_control": {
     "frozen": false,
     "read_only": false
    }
   },
   "outputs": [],
   "source": [
    "%matplotlib inline\n",
    "import numpy as np\n",
    "import matplotlib.pylab as plt\n",
    "import matplotlib.patches as mpatches\n",
    "from matplotlib.collections import PatchCollection\n",
    "from collections import defaultdict, Counter\n",
    "import pandas as pd\n",
    "import subprocess \n",
    "import re\n",
    "from sklearn.metrics.cluster import adjusted_mutual_info_score, normalized_mutual_info_score, mutual_info_score\n",
    "import networkx as nx\n",
    "import random\n",
    "import copy\n",
    "import statsmodels.api as sm\n",
    "from ulf import ulf"
   ]
  },
  {
   "cell_type": "markdown",
   "metadata": {},
   "source": [
    "## Layout"
   ]
  },
  {
   "cell_type": "code",
   "execution_count": 15,
   "metadata": {
    "ExecuteTime": {
     "end_time": "2017-09-04T12:18:00.553839Z",
     "start_time": "2017-09-04T12:18:00.538572Z"
    },
    "collapsed": true,
    "run_control": {
     "frozen": false,
     "read_only": false
    }
   },
   "outputs": [],
   "source": [
    "plt.style.use([\"classic\"])\n",
    "np.set_printoptions(precision=4)\n",
    "np.core.arrayprint._line_width = 100\n",
    "\n",
    "def standarize_plot_parameters():\n",
    "    # http://scipy.github.io/old-wiki/pages/Cookbook/Matplotlib/LaTeX_Examples\n",
    "    # thesis has 417.47 points in column size, with 0.6\\columnwidth\n",
    "    fig_width_pt = 417.47*0.6\n",
    "    inches_per_pt = 1.0/72.27               # Convert pt to inches\n",
    "    golden_mean = (np.sqrt(5)-1.0)/2.0         # Aesthetic ratio\n",
    "    fig_width = fig_width_pt*inches_per_pt  # width in inches\n",
    "    fig_height = fig_width*golden_mean       # height in inches\n",
    "    params = {\n",
    "        'axes.labelsize': 10,\n",
    "        'legend.fontsize': 7,\n",
    "        'xtick.labelsize': 8,\n",
    "        'ytick.labelsize': 8,\n",
    "        'figure.figsize': [fig_width, fig_height],\n",
    "        'font.family': 'STIXGeneral',  # close enough to LaTeX font\n",
    "        'font.size': 8,\n",
    "        'figure.frameon': False\n",
    "    }\n",
    "    plt.rcParams.update(params)\n",
    "\n",
    "standarize_plot_parameters()"
   ]
  },
  {
   "cell_type": "markdown",
   "metadata": {},
   "source": [
    "# **Utility functions**"
   ]
  },
  {
   "cell_type": "markdown",
   "metadata": {},
   "source": [
    "## General"
   ]
  },
  {
   "cell_type": "code",
   "execution_count": 16,
   "metadata": {
    "ExecuteTime": {
     "end_time": "2017-09-04T12:18:01.284195Z",
     "start_time": "2017-09-04T12:18:01.249623Z"
    },
    "collapsed": true,
    "run_control": {
     "frozen": false,
     "read_only": false
    }
   },
   "outputs": [],
   "source": [
    "def NMI_score(p1, p2, kind=\"adjusted\"):\n",
    "    \"\"\"Takes two partitions in dict format and returns NMI of partition of common nodes.\"\"\"\n",
    "    nodes_inter = sorted(set(p1.keys()) & set(p2.keys()))\n",
    "    nodes_union = sorted(set(p1.keys()) | set(p2.keys()))\n",
    "    \n",
    "    if len(nodes_inter) != len(nodes_union):\n",
    "        print \"Warning: len(nodes_inter) (%d) != len(nodes_union) (%d)\" % (len(nodes_inter), len(nodes_union))\n",
    "    \n",
    "    if kind != \"\":\n",
    "        kind += \"_\"\n",
    "        \n",
    "    return globals()[kind + 'mutual_info_score'](\n",
    "        [p1[n] for n in nodes_inter],\n",
    "        [p2[n] for n in nodes_inter]\n",
    "    )\n",
    "\n",
    "def get_cols(partition, randomize=False):\n",
    "    cmap = ulf.cmap_in_range([min(partition.values()), max(partition.values())], cmap_style=\"hsv\")\n",
    "    cols = {}\n",
    "    for commu in sorted(set(partition.values())):\n",
    "        cols[commu] = cmap(commu)\n",
    "\n",
    "    if randomize:\n",
    "        cols = dict((k, v) for k, v in zip(cols.keys(), ulf.shuffle_list(cols.values())))\n",
    "\n",
    "    return cols\n",
    "\n",
    "def flatten_layer_partition(layer_partition, every_other=False):\n",
    "    \"\"\"Expand a layer-nested partition into a flat partition\"\"\"\n",
    "    if every_other:\n",
    "        layer_partition = dict(\n",
    "            (k, v)\n",
    "            for k, v in layer_partition.items()\n",
    "            if k % gap == 0\n",
    "        )\n",
    "        \n",
    "    return dict(\n",
    "        (str(l) + \"_\" + str(n), c)  # ..., 0_1: 0, ...\n",
    "        for l, partition in layer_partition.items()\n",
    "        for c, nodes in partition.items()\n",
    "        for n in nodes\n",
    "    )\n",
    "\n",
    "def inflate_layer_partition(flat_layer_partition):\n",
    "    \"\"\"Expand flat partition into layer-nested partition\"\"\"\n",
    "    layer_partition = defaultdict(lambda: defaultdict(list))\n",
    "    for l_n, c in flat_layer_partition.items():\n",
    "        l, n = map(int, l_n.split(\"_\"))\n",
    "        layer_partition[l][c].append(n)\n",
    "    return ulf.default_to_regular(layer_partition)\n",
    "\n"
   ]
  },
  {
   "cell_type": "markdown",
   "metadata": {},
   "source": [
    "## Network"
   ]
  },
  {
   "cell_type": "code",
   "execution_count": 17,
   "metadata": {
    "ExecuteTime": {
     "end_time": "2017-09-04T12:18:02.332741Z",
     "start_time": "2017-09-04T12:18:02.257455Z"
    },
    "collapsed": true,
    "run_control": {
     "frozen": false,
     "read_only": false
    }
   },
   "outputs": [],
   "source": [
    "def generate_connected_graph(nodes):\n",
    "    edges = set()\n",
    "    for i1, n1 in enumerate(nodes):\n",
    "        for i2, n2 in enumerate(nodes):\n",
    "            if i2 > i1:\n",
    "                edges.add((n1, n2))\n",
    "    return edges\n",
    "\n",
    "def compute_average_jssim(layer_partition, N):\n",
    "    def _get_graph(l):\n",
    "        G = nx.Graph()\n",
    "        for c, nodes in layer_partition[l].items():\n",
    "            G.add_edges_from(generate_connected_graph(nodes))\n",
    "        return G\n",
    "\n",
    "    jssims = []\n",
    "    for l_i in sorted(layer_partition.keys()):\n",
    "        for l_j in sorted(layer_partition.keys()):\n",
    "            if l_i >= l_j: continue\n",
    "\n",
    "            G_i = _get_graph(l_i)\n",
    "            G_j = _get_graph(l_j)\n",
    "            \n",
    "            if set(G_i.edges()) == set(G_j.edges()):\n",
    "                continue\n",
    "\n",
    "            for n in range(N):\n",
    "                p_i = np.array([1.0 if nn in G_i.neighbors(n) else 0.0 for nn in range(N)])\n",
    "                p_i = p_i / sum(p_i)\n",
    "                p_j = np.array([1.0 if nn in G_j.neighbors(n) else 0.0 for nn in range(N)])\n",
    "                p_j = p_j / sum(p_j)\n",
    "                jssims.append(1.0 - ulf.jsdiv(p_i, p_j))\n",
    "    try:\n",
    "        return np.mean(jssims), np.min(jssims), np.max(jssims)\n",
    "    except ValueError:\n",
    "        return 1.0, 1.0, 1.0\n",
    "\n",
    "def compute_average_mutual_info(layer_partition, N):\n",
    "    layer_pairs = []\n",
    "    for l_i, c_nodes_i in sorted(layer_partition.items(), key=lambda (k, v): k):\n",
    "        for l_j, c_nodes_j in sorted(layer_partition.items(), key=lambda (k, v): k):\n",
    "            if l_i >= l_j or set(c_nodes_i.keys()) == set(c_nodes_j.keys()): continue\n",
    "            layer_pairs.append((l_i, l_j))\n",
    "\n",
    "    layer_labels = {}\n",
    "    for l in set(ulf.unwrap(layer_pairs)):\n",
    "        layer_labels[l] = ulf.invert_partition(layer_partition[l])\n",
    "\n",
    "    mutual_info = []\n",
    "    for l_i, l_j in layer_pairs:\n",
    "        mutual_info.append(NMI_score(layer_labels[l_i], layer_labels[l_j], kind=\"normalized\"))\n",
    "    \n",
    "    return np.mean(mutual_info), np.min(mutual_info), np.max(mutual_info)\n",
    "\n",
    "def compute_average_mutual_info2(layer_partition, N):\n",
    "    layer_pairs = []\n",
    "    for l_i in sorted(layer_partition.keys()):\n",
    "        for l_j in sorted(layer_partition.keys()):\n",
    "            layer_pairs.append((l_i, l_j))\n",
    "\n",
    "    partitions = {}\n",
    "    for l in set(ulf.unwrap(layer_pairs)):\n",
    "        partitions[l] = ulf.invert_partition(layer_partition[l])\n",
    "\n",
    "    mutual_info = []\n",
    "    for l_i, l_j in layer_pairs:\n",
    "        mutual_info.append(NMI_score(partitions[l_i], partitions[l_j], kind=\"normalized\"))\n",
    "    \n",
    "    return np.mean(mutual_info), np.min(mutual_info), np.max(mutual_info)"
   ]
  },
  {
   "cell_type": "markdown",
   "metadata": {},
   "source": [
    "# **Analysis**"
   ]
  },
  {
   "cell_type": "markdown",
   "metadata": {},
   "source": [
    "## Produce network"
   ]
  },
  {
   "cell_type": "markdown",
   "metadata": {},
   "source": [
    "### One in noise communities"
   ]
  },
  {
   "cell_type": "code",
   "execution_count": 1018,
   "metadata": {
    "ExecuteTime": {
     "end_time": "2017-08-02T11:07:13.622651Z",
     "start_time": "2017-08-02T11:07:07.818875Z"
    },
    "run_control": {
     "frozen": false,
     "read_only": false
    }
   },
   "outputs": [
    {
     "name": "stdout",
     "output_type": "stream",
     "text": [
      "(0.13166344756939205, 0.0, 1.0)\n"
     ]
    }
   ],
   "source": [
    "N = 25\n",
    "C = 6\n",
    "L = 50\n",
    "gap = L\n",
    "\n",
    "copy_layer = np.array_split(range(N), C)\n",
    "\n",
    "partition_true = {}\n",
    "c = 1\n",
    "for l in range(L):\n",
    "    if l % gap == 0:\n",
    "        for _c, n in enumerate(copy_layer):\n",
    "            for _n in n:\n",
    "                partition_true[str(l) + \"_\" + str(_n)] = _c\n",
    "    else:\n",
    "        tmp_layer = np.array_split(ulf.shuffle_list(range(N)), C)\n",
    "        for _c, n in enumerate(tmp_layer):\n",
    "            for _n in n:\n",
    "                partition_true[str(l) + \"_\" + str(_n)] = c * C + _c \n",
    "        c += 1\n",
    "        \n",
    "print compute_average_jssim(inflate_layer_partition(partition_true), N)"
   ]
  },
  {
   "cell_type": "markdown",
   "metadata": {},
   "source": [
    "### One in long"
   ]
  },
  {
   "cell_type": "code",
   "execution_count": 878,
   "metadata": {
    "ExecuteTime": {
     "end_time": "2017-08-02T10:30:40.306136Z",
     "start_time": "2017-08-02T10:30:23.293655Z"
    },
    "run_control": {
     "frozen": false,
     "read_only": false
    }
   },
   "outputs": [
    {
     "name": "stdout",
     "output_type": "stream",
     "text": [
      "0.19084057971\n"
     ]
    }
   ],
   "source": [
    "N = 50\n",
    "C = 5\n",
    "L = 50\n",
    "gap = 10\n",
    "\n",
    "copy_layer = np.array_split(range(N), C)\n",
    "\n",
    "partition_true = {}\n",
    "c = 1\n",
    "l = 0\n",
    "while l < L:\n",
    "    if l % gap == 0:\n",
    "        for _c, n in enumerate(copy_layer):\n",
    "            for _n in n:\n",
    "                partition_true[str(l) + \"_\" + str(_n)] = _c\n",
    "        l += 1\n",
    "    else:\n",
    "        tmp_layer = np.array_split(ulf.shuffle_list(range(N)), C)\n",
    "        for _l in range(gap-1):\n",
    "            for _c, n in enumerate(tmp_layer):\n",
    "                for _n in n:\n",
    "                    partition_true[str(l) + \"_\" + str(_n)] = c * C + _c \n",
    "            l += 1\n",
    "        c += 1\n",
    "        \n",
    "print compute_average_jssim(inflate_layer_partition(partition_true), N)"
   ]
  },
  {
   "cell_type": "markdown",
   "metadata": {},
   "source": [
    "### Many signal"
   ]
  },
  {
   "cell_type": "code",
   "execution_count": 1168,
   "metadata": {
    "ExecuteTime": {
     "end_time": "2017-08-02T11:23:35.268686Z",
     "start_time": "2017-08-02T11:23:35.185813Z"
    },
    "run_control": {
     "frozen": false,
     "read_only": false
    }
   },
   "outputs": [
    {
     "data": {
      "text/plain": [
       "(0.20000000000000001, 0.0, 0.25)"
      ]
     },
     "execution_count": 1168,
     "metadata": {},
     "output_type": "execute_result"
    }
   ],
   "source": [
    "N = 15\n",
    "C = 3\n",
    "L = 10\n",
    "M = 2\n",
    "\n",
    "copy_layers = []\n",
    "for m in range(M):\n",
    "    copy_layers.append(np.array_split(ulf.shuffle_list(range(N)), C))\n",
    "\n",
    "partition_layer_map = dict(\n",
    "    (l_ind, p_ind)\n",
    "    for p_ind, layers in enumerate(np.array_split(range(L), M))\n",
    "    for l_ind in layers\n",
    ")\n",
    "\n",
    "partition_true = {}\n",
    "for l in range(L):\n",
    "    p_ind = partition_layer_map[l]\n",
    "    layer_commus = copy_layers[p_ind]\n",
    "    for c, nodes in enumerate(layer_commus):\n",
    "        for n in nodes:\n",
    "            partition_true[str(l) + \"_\" + str(n)] = p_ind * C + c\n",
    "            \n",
    "compute_average_jssim(inflate_layer_partition(partition_true), N)"
   ]
  },
  {
   "cell_type": "markdown",
   "metadata": {
    "ExecuteTime": {
     "end_time": "2017-07-21T12:43:16.560028Z",
     "start_time": "2017-07-21T12:43:16.549694Z"
    }
   },
   "source": [
    "## Visualize"
   ]
  },
  {
   "cell_type": "code",
   "execution_count": 1476,
   "metadata": {
    "ExecuteTime": {
     "end_time": "2017-08-04T12:26:04.992181Z",
     "start_time": "2017-08-04T12:26:04.662892Z"
    },
    "run_control": {
     "frozen": false,
     "read_only": false
    }
   },
   "outputs": [
    {
     "data": {
      "image/png": "[encoded data removed]",
      "text/plain": [
       "<matplotlib.figure.Figure at 0x12490da50>"
      ]
     },
     "metadata": {},
     "output_type": "display_data"
    }
   ],
   "source": [
    "cols = get_cols(partition_true, randomize=True)\n",
    "\n",
    "plt.figure(figsize=(10, 1.5))\n",
    "ax = plt.subplot(1, 1, 1)\n",
    "\n",
    "for l_n, c in partition_true.items():\n",
    "    l, n = map(int, l_n.split(\"_\"))\n",
    "    rect = mpatches.Rectangle([n, l], 1, 1, ec=\"none\", lw=0)\n",
    "    collection = PatchCollection([rect], color=cols[partition_true[\"%d_%d\" % (l, n)]], alpha=0.3)\n",
    "    ax.add_collection(collection)\n",
    "\n",
    "plt.xlim(0, N)\n",
    "plt.ylim(0, L)\n",
    "\n",
    "plt.xticks(np.arange(0, N) + 0.5, range(N))\n",
    "plt.yticks(np.arange(0, L) + 0.5, range(L))\n",
    "\n",
    "plt.xlabel(\"Node\", fontsize=14)\n",
    "plt.ylabel(\"Layer\", fontsize=14)\n",
    "\n",
    "plt.show()"
   ]
  },
  {
   "cell_type": "markdown",
   "metadata": {},
   "source": [
    "## Compute partition"
   ]
  },
  {
   "cell_type": "code",
   "execution_count": 1182,
   "metadata": {
    "ExecuteTime": {
     "end_time": "2017-08-02T11:25:50.567586Z",
     "start_time": "2017-08-02T11:25:50.563501Z"
    },
    "collapsed": true,
    "run_control": {
     "frozen": false,
     "read_only": false
    }
   },
   "outputs": [],
   "source": [
    "layer_communities_true = inflate_layer_partition(partition_true)"
   ]
  },
  {
   "cell_type": "code",
   "execution_count": 1177,
   "metadata": {
    "ExecuteTime": {
     "end_time": "2017-08-02T11:25:44.314750Z",
     "start_time": "2017-08-02T11:25:44.306729Z"
    },
    "collapsed": true,
    "run_control": {
     "frozen": false,
     "read_only": false
    }
   },
   "outputs": [],
   "source": [
    "temporal_edgelist = []\n",
    "for l, partition in layer_communities_true.items():\n",
    "    for c, nodes in partition.items():\n",
    "        temporal_edgelist.extend(\n",
    "            [\n",
    "                (a, b, l)\n",
    "                for a, b in generate_connected_graph(nodes)\n",
    "            ]\n",
    "        )\n",
    "\n",
    "temporal_edgelist = pd.DataFrame(temporal_edgelist, columns=[\"node1\", \"node2\", \"layer\"])"
   ]
  },
  {
   "cell_type": "code",
   "execution_count": 1178,
   "metadata": {
    "ExecuteTime": {
     "end_time": "2017-08-02T11:25:44.598325Z",
     "start_time": "2017-08-02T11:25:44.539872Z"
    },
    "collapsed": true,
    "run_control": {
     "frozen": false,
     "read_only": false
    }
   },
   "outputs": [],
   "source": [
    "network_pajek = ulf.write_pajek(temporal_edgelist)"
   ]
  },
  {
   "cell_type": "code",
   "execution_count": 1179,
   "metadata": {
    "ExecuteTime": {
     "end_time": "2017-08-02T11:25:44.884611Z",
     "start_time": "2017-08-02T11:25:44.746603Z"
    },
    "collapsed": true,
    "run_control": {
     "frozen": false,
     "read_only": false
    }
   },
   "outputs": [],
   "source": [
    "random_FC = np.random.randint(0, 1000000)\n",
    "\n",
    "communities_FC, layer_communities_FC, node_flow_FC, community_flow_FC = ulf.Infomap(\n",
    "    network_pajek,\n",
    "    '-i',\n",
    "    'multiplex',\n",
    "    '--multiplex-relax-rate', '0.25',\n",
    "    '--overlapping',\n",
    "    '--expanded',\n",
    "    '--clu',\n",
    "    '-z',\n",
    "    '--two-level',\n",
    "    'pid%d' % random_FC\n",
    ")\n",
    "\n",
    "random_NFC = np.random.randint(0, 1000000)\n",
    "\n",
    "communities_NFC, layer_communities_NFC, node_flow_NFC, community_flow_NFC = ulf.Infomap(\n",
    "    network_pajek,\n",
    "    '-i',\n",
    "    'multiplex',\n",
    "    '--multiplex-js-relax-rate', '0.25',\n",
    "    '--overlapping',\n",
    "    '--expanded',\n",
    "    '--clu',\n",
    "    '-z',\n",
    "    '--two-level',\n",
    "    'pid%d' % random_NFC\n",
    ")"
   ]
  },
  {
   "cell_type": "markdown",
   "metadata": {},
   "source": [
    "### Estimate accuracy"
   ]
  },
  {
   "cell_type": "code",
   "execution_count": 1180,
   "metadata": {
    "ExecuteTime": {
     "end_time": "2017-08-02T11:25:45.303241Z",
     "start_time": "2017-08-02T11:25:45.289817Z"
    },
    "run_control": {
     "frozen": false,
     "read_only": false
    }
   },
   "outputs": [
    {
     "name": "stdout",
     "output_type": "stream",
     "text": [
      "NFC\n",
      "Signal layers: 1.0\n",
      "All layers: 1.0\n"
     ]
    }
   ],
   "source": [
    "print \"NFC\"\n",
    "print \"Signal layers:\",\n",
    "print NMI_score(\n",
    "    flatten_layer_partition(layer_communities_NFC, every_other=True),\n",
    "    flatten_layer_partition(layer_communities_true, every_other=True)\n",
    ")\n",
    "print \"All layers:\",\n",
    "print NMI_score(\n",
    "    flatten_layer_partition(layer_communities_NFC, every_other=False),\n",
    "    flatten_layer_partition(layer_communities_true, every_other=False)\n",
    ")"
   ]
  },
  {
   "cell_type": "code",
   "execution_count": 1181,
   "metadata": {
    "ExecuteTime": {
     "end_time": "2017-08-02T11:25:45.662747Z",
     "start_time": "2017-08-02T11:25:45.651080Z"
    },
    "run_control": {
     "frozen": false,
     "read_only": false
    }
   },
   "outputs": [
    {
     "name": "stdout",
     "output_type": "stream",
     "text": [
      "FC\n",
      "Signal layers: 1.0\n",
      "All layers: 1.0\n"
     ]
    }
   ],
   "source": [
    "print \"FC\"\n",
    "print \"Signal layers:\",\n",
    "print NMI_score(\n",
    "    flatten_layer_partition(layer_communities_FC, every_other=True),\n",
    "    flatten_layer_partition(layer_communities_true, every_other=True)\n",
    ")\n",
    "print \"All layers:\",\n",
    "print NMI_score(\n",
    "    flatten_layer_partition(layer_communities_FC, every_other=False),\n",
    "    flatten_layer_partition(layer_communities_true, every_other=False)\n",
    ")"
   ]
  },
  {
   "cell_type": "markdown",
   "metadata": {},
   "source": [
    "# **Results**"
   ]
  },
  {
   "cell_type": "code",
   "execution_count": 275,
   "metadata": {
    "ExecuteTime": {
     "end_time": "2017-09-04T15:16:15.633550Z",
     "start_time": "2017-09-04T15:16:15.618952Z"
    },
    "collapsed": true,
    "run_control": {
     "frozen": false,
     "read_only": false
    }
   },
   "outputs": [],
   "source": [
    "def overlap_benchmark_model(N, C, d=1, swaps=50):\n",
    "    \"\"\"Create an instance of the overlap benchmark model.\n",
    "    \"\"\"\n",
    "    # Create both layers, initially identical\n",
    "    first_layer = np.array_split(ulf.shuffle_list(range(N)), C)\n",
    "    second_layer = copy.deepcopy(first_layer)\n",
    "\n",
    "    # Perform 1-50 edge swaps in the second layer graph\n",
    "    for _ in range(np.random.randint(1, swaps)):\n",
    "        a, b = random.sample(range(C), 2)\n",
    "        a_i, b_i = random.choice(range(len(second_layer[a]))), random.choice(range(len(second_layer[b])))\n",
    "        a_v, b_v = second_layer[a][a_i], second_layer[b][b_i]\n",
    "        second_layer[a][a_i] = b_v; second_layer[b][b_i] = a_v\n",
    "\n",
    "    # Produce multilayer state node label map\n",
    "    partition_true = defaultdict(lambda: defaultdict(list))\n",
    "    for l, layer in enumerate([first_layer] + [second_layer] * ((d-1)*2 + 1)):\n",
    "        for c, nodes in enumerate(layer):\n",
    "            for n in nodes:\n",
    "                partition_true[l][(l * C) % (2*C) + c].append(n)\n",
    "                \n",
    "    return ulf.default_to_regular(partition_true)"
   ]
  },
  {
   "cell_type": "markdown",
   "metadata": {},
   "source": [
    "## Performance vs. AMI"
   ]
  },
  {
   "cell_type": "code",
   "execution_count": 325,
   "metadata": {
    "ExecuteTime": {
     "end_time": "2017-09-04T15:34:24.246583Z",
     "start_time": "2017-09-04T15:29:17.232716Z"
    },
    "run_control": {
     "frozen": false,
     "read_only": false
    }
   },
   "outputs": [
    {
     "name": "stdout",
     "output_type": "stream",
     "text": [
      "0\n",
      "10\n",
      "20\n",
      "30\n",
      "40\n",
      "50\n",
      "60\n",
      "70\n",
      "80\n",
      "90\n",
      "100\n",
      "110\n",
      "120\n",
      "130\n",
      "140\n",
      "150\n",
      "160\n",
      "170\n",
      "180\n",
      "190\n",
      "200\n",
      "210\n",
      "220\n",
      "230\n",
      "240\n",
      "250\n",
      "260\n",
      "270\n",
      "280\n",
      "290\n",
      "300\n",
      "310\n",
      "320\n",
      "330\n",
      "340\n",
      "350\n",
      "360\n",
      "370\n",
      "380\n",
      "390\n",
      "400\n",
      "410\n",
      "420\n",
      "430\n",
      "440\n",
      "450\n",
      "460\n",
      "470\n",
      "480\n",
      "490\n",
      "500\n",
      "510\n",
      "520\n",
      "530\n",
      "540\n",
      "550\n",
      "560\n",
      "570\n",
      "580\n",
      "590\n",
      "600\n",
      "610\n",
      "620\n",
      "630\n",
      "640\n",
      "650\n",
      "660\n",
      "670\n",
      "680\n",
      "690\n",
      "700\n",
      "710\n",
      "720\n",
      "730\n",
      "740\n",
      "750\n",
      "760\n",
      "770\n",
      "780\n",
      "790\n",
      "800\n",
      "810\n",
      "820\n",
      "830\n",
      "840\n",
      "850\n",
      "860\n",
      "870\n",
      "880\n",
      "890\n",
      "900\n",
      "910\n",
      "920\n",
      "930\n",
      "940\n",
      "950\n",
      "960\n",
      "970\n",
      "980\n",
      "990\n"
     ]
    }
   ],
   "source": [
    "N = 500\n",
    "C = 50\n",
    "\n",
    "#x2 = defaultdict(lambda: defaultdict(list))\n",
    "\n",
    "for _iter in range(1000):\n",
    "\n",
    "    # Create partition\n",
    "    partition_true = overlap_benchmark_model(N, C, 1, swaps=500)\n",
    "    network_pajek = write_pajek(partition_true)\n",
    "\n",
    "    random_FC = np.random.randint(0, 1000000)\n",
    "\n",
    "    communities_FC, partition_FC, node_flow_FC, community_flow_FC = ulf.Infomap(\n",
    "        network_pajek,\n",
    "        '-i',\n",
    "        'multiplex',\n",
    "        '--multiplex-relax-rate', '0.25',\n",
    "        '--overlapping',\n",
    "        '--expanded',\n",
    "        '--clu',\n",
    "        '-z',\n",
    "        '--two-level',\n",
    "        'pid%d' % random_FC\n",
    "    )\n",
    "\n",
    "    random_NFC = np.random.randint(0, 1000000)\n",
    "\n",
    "    communities_NFC, partition_NFC, node_flow_NFC, community_flow_NFC = ulf.Infomap(\n",
    "        network_pajek,\n",
    "        '-i',\n",
    "        'multiplex',\n",
    "        '--multiplex-js-relax-rate', '0.25',\n",
    "        '--overlapping',\n",
    "        '--expanded',\n",
    "        '--clu',\n",
    "        '-z',\n",
    "        '--two-level',\n",
    "        'pid%d' % random_NFC\n",
    "    )\n",
    "\n",
    "    score_NFC = NMI_score(\n",
    "        flatten_layer_partition(partition_NFC, every_other=False),\n",
    "        flatten_layer_partition(partition_true, every_other=False)\n",
    "    )\n",
    "\n",
    "    score_FC = NMI_score(\n",
    "        flatten_layer_partition(partition_FC, every_other=False),\n",
    "        flatten_layer_partition(partition_true, every_other=False)\n",
    "    )\n",
    "\n",
    "    x2[compute_average_mutual_info(partition_true, N)[0]]['NFC'].append(score_NFC)\n",
    "    x2[compute_average_mutual_info(partition_true, N)[0]]['FC'].append(score_FC)\n",
    "\n",
    "    if _iter % 10 == 0:\n",
    "        print _iter"
   ]
  },
  {
   "cell_type": "code",
   "execution_count": 326,
   "metadata": {
    "ExecuteTime": {
     "end_time": "2017-09-04T15:34:36.446070Z",
     "start_time": "2017-09-04T15:34:34.121325Z"
    },
    "collapsed": true,
    "run_control": {
     "frozen": false,
     "read_only": false
    }
   },
   "outputs": [],
   "source": [
    "def get_x_y1_y2_from_xn(xn):\n",
    "    x, y1, y2 = [], [], []\n",
    "    for x_val, data in xn.items():\n",
    "        x += [x_val] * len(data['NFC'])\n",
    "        y1.extend(data['NFC'])\n",
    "        y2.extend(data['FC'])\n",
    "    return x, y1, y2\n",
    "\n",
    "x_B, y1, y2 = get_x_y1_y2_from_xn(x2)\n",
    "\n",
    "Y1, Y2 = [], []\n",
    "for _ in range(100):\n",
    "    # Get bootstrapped data\n",
    "    x_Bb, y1b, y2b = map(list, zip(*ulf.bootstrap(np.array(zip(x_B, y1, y2))).tolist()))\n",
    "    \n",
    "    # Compute smoothened curves from bs data and add to array\n",
    "    x_B_smooth, y1_smooth = ulf.window_kernel_smoothener(x_Bb, y1b, sigma=0.05, window=10., ticks=100, domain=[min(x_B), max(x_B)])\n",
    "    x_B_smooth, y2_smooth = ulf.window_kernel_smoothener(x_Bb, y2b, sigma=0.05, window=10., ticks=100, domain=[min(x_B), max(x_B)])\n",
    "    Y1.append(y1_smooth); Y2.append(y2_smooth)\n",
    "    \n",
    "Y1_smooth, Y2_smooth = np.array(Y1), np.array(Y2)\n",
    "Y1_smooth.sort(0); Y2_smooth.sort(0)\n",
    "\n",
    "m = ulf.domain_range([min(x_B_smooth), max(x_B_smooth)])\n",
    "x_B_smooth_adj = [float(m(v)) for v in x_B_smooth]"
   ]
  },
  {
   "cell_type": "code",
   "execution_count": 328,
   "metadata": {
    "ExecuteTime": {
     "end_time": "2017-09-04T15:34:42.636370Z",
     "start_time": "2017-09-04T15:34:42.374958Z"
    },
    "run_control": {
     "frozen": false,
     "read_only": false
    }
   },
   "outputs": [
    {
     "data": {
      "text/plain": [
       "<matplotlib.text.Text at 0x113231b50>"
      ]
     },
     "execution_count": 328,
     "metadata": {},
     "output_type": "execute_result"
    },
    {
     "data": {
      "image/png": "[encoded data removed]",
      "text/plain": [
       "<matplotlib.figure.Figure at 0x10f9d78d0>"
      ]
     },
     "metadata": {},
     "output_type": "display_data"
    }
   ],
   "source": [
    "confidence = 0.98\n",
    "margin_index = int(Y1_smooth.shape[0] * (1. - confidence) / 2)\n",
    "Y1_smooth_min = Y1_smooth[margin_index, :]\n",
    "Y1_smooth_max = Y1_smooth[Y1_smooth.shape[0] - margin_index, :]\n",
    "Y1_smooth_mean = Y1_smooth.mean(0)\n",
    "Y2_smooth_min = Y2_smooth[margin_index, :]\n",
    "Y2_smooth_max = Y2_smooth[Y2_smooth.shape[0] - margin_index, :]\n",
    "Y2_smooth_mean = Y2_smooth.mean(0)\n",
    "\n",
    "plt.figure(figsize=(3.42/2.0, 1.2/1.8), frameon=False)\n",
    "\n",
    "plt.fill_between(x_B_smooth_adj, Y1_smooth_min, Y1_smooth_max, alpha=0.5, color=\"#d35400\")\n",
    "plt.plot(x_B_smooth_adj, Y1_smooth_mean, color=\"#d35400\", lw=2)\n",
    "\n",
    "plt.fill_between(x_B_smooth_adj, Y2_smooth_min, Y2_smooth_max, alpha=0.5, color=\"#2980b9\")\n",
    "plt.plot(x_B_smooth_adj, Y2_smooth_mean, color=\"#2980b9\", lw=2)\n",
    "\n",
    "plt.xlim(0, 0.5)\n",
    "plt.ylim(0.0, 1.0)\n",
    "\n",
    "#plt.yticks(np.linspace(0.6, 1.0, 5))\n",
    "\n",
    "plt.xlabel(\"Network interlayer AMI\")\n",
    "plt.ylabel(\"Solution AMI\")\n",
    "\n",
    "#plt.savefig(\"figures/AMIvsAMIN20C5_01_narrow.pdf\")"
   ]
  },
  {
   "cell_type": "markdown",
   "metadata": {
    "heading_collapsed": true
   },
   "source": [
    "## Alt. performance vs. AMI"
   ]
  },
  {
   "cell_type": "code",
   "execution_count": 253,
   "metadata": {
    "ExecuteTime": {
     "end_time": "2017-09-04T15:08:05.362928Z",
     "start_time": "2017-09-04T15:08:04.652114Z"
    },
    "hidden": true,
    "run_control": {
     "frozen": false,
     "read_only": false
    }
   },
   "outputs": [
    {
     "ename": "NameError",
     "evalue": "name 'Infomap' is not defined",
     "output_type": "error",
     "traceback": [
      "\u001b[0;31m---------------------------------------------------------------------------\u001b[0m",
      "\u001b[0;31mNameError\u001b[0m                                 Traceback (most recent call last)",
      "\u001b[0;32m<ipython-input-253-c5de394f20a0>\u001b[0m in \u001b[0;36m<module>\u001b[0;34m()\u001b[0m\n\u001b[1;32m     28\u001b[0m \u001b[0;34m\u001b[0m\u001b[0m\n\u001b[1;32m     29\u001b[0m         \u001b[0mrandom_FC\u001b[0m \u001b[0;34m=\u001b[0m \u001b[0mnp\u001b[0m\u001b[0;34m.\u001b[0m\u001b[0mrandom\u001b[0m\u001b[0;34m.\u001b[0m\u001b[0mrandint\u001b[0m\u001b[0;34m(\u001b[0m\u001b[0;36m0\u001b[0m\u001b[0;34m,\u001b[0m \u001b[0;36m1000000\u001b[0m\u001b[0;34m)\u001b[0m\u001b[0;34m\u001b[0m\u001b[0m\n\u001b[0;32m---> 30\u001b[0;31m         communities_FC, layer_communities_FC, node_flow_FC, community_flow_FC = Infomap(\n\u001b[0m\u001b[1;32m     31\u001b[0m             \u001b[0mnetwork_pajek\u001b[0m\u001b[0;34m,\u001b[0m\u001b[0;34m\u001b[0m\u001b[0m\n\u001b[1;32m     32\u001b[0m             \u001b[0;34m'-i'\u001b[0m\u001b[0;34m,\u001b[0m\u001b[0;34m\u001b[0m\u001b[0m\n",
      "\u001b[0;31mNameError\u001b[0m: name 'Infomap' is not defined"
     ]
    }
   ],
   "source": [
    "N = 500\n",
    "C = 50\n",
    "\n",
    "X3 = {}\n",
    "for L in range(1, 2, 1):\n",
    "    #x3 = defaultdict(lambda: defaultdict(list))\n",
    "\n",
    "    for _ in range(1000):\n",
    "\n",
    "        # Create partition\n",
    "        partition_true = overlap_benchmark_model(N, C, L)\n",
    "        \n",
    "        # Compute communities and estimate quality\n",
    "        layer_communities_true = inflate_layer_partition(partition_true)\n",
    "\n",
    "        temporal_edgelist = []\n",
    "        for l, partition in layer_communities_true.items():\n",
    "            for c, nodes in partition.items():\n",
    "                temporal_edgelist.extend(\n",
    "                    [\n",
    "                        (a, b, l)\n",
    "                        for a, b in generate_connected_graph(nodes)\n",
    "                    ]\n",
    "                )\n",
    "\n",
    "        temporal_edgelist = pd.DataFrame(temporal_edgelist, columns=[\"node1\", \"node2\", \"layer\"])\n",
    "        network_pajek = ulf.write_pajek(temporal_edgelist)\n",
    "\n",
    "        random_FC = np.random.randint(0, 1000000)\n",
    "        communities_FC, layer_communities_FC, node_flow_FC, community_flow_FC = Infomap(\n",
    "            network_pajek,\n",
    "            '-i',\n",
    "            'multiplex',\n",
    "            '--multiplex-relax-rate', '0.25',\n",
    "            '--overlapping',\n",
    "            '--expanded',\n",
    "            '--clu',\n",
    "            '-z',\n",
    "            '--two-level',\n",
    "            'pid%d' % random_FC\n",
    "        )\n",
    "\n",
    "        random_NFC = np.random.randint(0, 1000000)\n",
    "        communities_NFC, layer_communities_NFC, node_flow_NFC, community_flow_NFC = Infomap(\n",
    "            network_pajek,\n",
    "            '-i',\n",
    "            'multiplex',\n",
    "            '--multiplex-js-relax-rate', '0.25',\n",
    "            '--overlapping',\n",
    "            '--expanded',\n",
    "            '--clu',\n",
    "            '-z',\n",
    "            '--two-level',\n",
    "            'pid%d' % random_NFC\n",
    "        )\n",
    "        \n",
    "        independent_AMI = compute_average_mutual_info2(inflate_layer_partition(partition_true), N)[0]\n",
    "\n",
    "        score_NFC = abs(\n",
    "            independent_AMI - compute_average_mutual_info2(layer_communities_NFC, N)[0]\n",
    "        )\n",
    "\n",
    "        score_FC = abs(\n",
    "            independent_AMI - compute_average_mutual_info2(layer_communities_FC, N)[0]\n",
    "        )\n",
    "\n",
    "        x3[independent_AMI]['NFC'].append(score_NFC)\n",
    "        x3[independent_AMI]['FC'].append(score_FC)\n",
    "        \n",
    "    X3[L] = x3"
   ]
  },
  {
   "cell_type": "code",
   "execution_count": 2950,
   "metadata": {
    "ExecuteTime": {
     "end_time": "2017-08-16T15:37:22.874269Z",
     "start_time": "2017-08-16T15:37:20.078747Z"
    },
    "collapsed": true,
    "hidden": true,
    "run_control": {
     "frozen": false,
     "read_only": false
    }
   },
   "outputs": [],
   "source": [
    "def get_x_y1_y2_from_xn(xn):\n",
    "    x, y1, y2 = [], [], []\n",
    "    for x_val, data in xn.items():\n",
    "        x += [x_val] * len(data['NFC'])\n",
    "        y1.extend(data['NFC'])\n",
    "        y2.extend(data['FC'])\n",
    "    return x, y1, y2\n",
    "\n",
    "x_B, y1, y2 = get_x_y1_y2_from_xn(X3[1])\n",
    "\n",
    "Y1, Y2 = [], []\n",
    "for _ in range(100):\n",
    "    # Get bootstrapped data\n",
    "    x_Bb, y1b, y2b = map(list, zip(*ulf.bootstrap(np.array(zip(x_B, y1, y2))).tolist()))\n",
    "    \n",
    "    # Compute smoothened curves from bs data and add to array\n",
    "    x_B_smooth, y1_smooth = ulf.window_kernel_smoothener(x_Bb, y1b, sigma=0.05, window=10., ticks=100, domain=[min(x_B), max(x_B)])\n",
    "    x_B_smooth, y2_smooth = ulf.window_kernel_smoothener(x_Bb, y2b, sigma=0.05, window=10., ticks=100, domain=[min(x_B), max(x_B)])\n",
    "    Y1.append(y1_smooth); Y2.append(y2_smooth)\n",
    "    \n",
    "Y1_smooth, Y2_smooth = np.array(Y1), np.array(Y2)\n",
    "Y1_smooth.sort(0); Y2_smooth.sort(0)\n",
    "\n",
    "m = ulf.domain_range([min(x_B_smooth), max(x_B_smooth)])\n",
    "x_B_smooth_adj = [float(m(v)) for v in x_B_smooth]"
   ]
  },
  {
   "cell_type": "code",
   "execution_count": 2951,
   "metadata": {
    "ExecuteTime": {
     "end_time": "2017-08-16T15:37:23.081829Z",
     "start_time": "2017-08-16T15:37:22.876536Z"
    },
    "hidden": true,
    "run_control": {
     "frozen": false,
     "read_only": false
    }
   },
   "outputs": [
    {
     "data": {
      "text/plain": [
       "<matplotlib.text.Text at 0x12e8749d0>"
      ]
     },
     "execution_count": 2951,
     "metadata": {},
     "output_type": "execute_result"
    },
    {
     "data": {
      "image/png": "[encoded data removed]",
      "text/plain": [
       "<matplotlib.figure.Figure at 0x12daa9a50>"
      ]
     },
     "metadata": {},
     "output_type": "display_data"
    }
   ],
   "source": [
    "confidence = 0.99\n",
    "margin_index = int(Y1_smooth.shape[0] * (1. - confidence) / 2)\n",
    "Y1_smooth_min = Y1_smooth[margin_index, :]\n",
    "Y1_smooth_max = Y1_smooth[Y1_smooth.shape[0] - margin_index - 1, :]\n",
    "Y1_smooth_mean = Y1_smooth.mean(0)\n",
    "Y2_smooth_min = Y2_smooth[margin_index, :]\n",
    "Y2_smooth_max = Y2_smooth[Y2_smooth.shape[0] - margin_index - 1, :]\n",
    "Y2_smooth_mean = Y2_smooth.mean(0)\n",
    "\n",
    "plt.figure(figsize=(3.42/2.0, 1.2/1.8), frameon=False)\n",
    "\n",
    "plt.fill_between(x_B_smooth_adj, Y1_smooth_min, Y1_smooth_max, alpha=0.5, color=\"#d35400\")\n",
    "plt.plot(x_B_smooth_adj, Y1_smooth_mean, color=\"#d35400\", lw=2)\n",
    "\n",
    "plt.fill_between(x_B_smooth_adj, Y2_smooth_min, Y2_smooth_max, alpha=0.5, color=\"#2980b9\")\n",
    "plt.plot(x_B_smooth_adj, Y2_smooth_mean, color=\"#2980b9\", lw=2)\n",
    "\n",
    "plt.xlim(0, 1)\n",
    "#plt.ylim(0, 0.1)\n",
    "\n",
    "#plt.yticks(np.linspace(0.6, 1.0, 5))\n",
    "\n",
    "plt.xlabel(\"Network interlayer AMI\")\n",
    "plt.ylabel(\"Solution AMI\")\n",
    "\n",
    "#plt.savefig(\"figures/AMIvsAMIN20C5_01_narrow.pdf\")"
   ]
  },
  {
   "cell_type": "code",
   "execution_count": null,
   "metadata": {
    "collapsed": true,
    "hidden": true,
    "run_control": {
     "frozen": false,
     "read_only": false
    }
   },
   "outputs": [],
   "source": []
  },
  {
   "cell_type": "markdown",
   "metadata": {},
   "source": [
    "## Merge proba. vs. overlap"
   ]
  },
  {
   "cell_type": "code",
   "execution_count": 262,
   "metadata": {
    "ExecuteTime": {
     "end_time": "2017-09-04T15:12:14.717040Z",
     "start_time": "2017-09-04T15:12:14.698390Z"
    },
    "collapsed": true,
    "run_control": {
     "frozen": false,
     "read_only": false
    }
   },
   "outputs": [],
   "source": [
    "def com_match(nodes_i, nodes_j, layer_communities_sol):\n",
    "    def _get_com(nodes_x, l):\n",
    "        sim = dict()\n",
    "        for c, nodes in layer_communities_sol[l].items():\n",
    "            sim[c] = len(set(nodes_x) & set(nodes))\n",
    "        return max(sim.items(), key=lambda (k, v): v)[0]\n",
    "    return _get_com(nodes_i, 0) == _get_com(nodes_j, 1)\n",
    "\n",
    "def compute_overlap_and_merge(layer_communities_true, layer_communities_sol):\n",
    "    overlap, merge = [], []\n",
    "    for c_i, nodes_i in layer_communities_true[0].items():\n",
    "        for c_j, nodes_j in layer_communities_true[1].items():\n",
    "            overlap.append(len(set(nodes_i) & set(nodes_j)))\n",
    "            merge.append(com_match(nodes_i, nodes_j, layer_communities_sol))\n",
    "    return overlap, merge\n",
    "\n",
    "def to_sparse_temporal_edgelist(layer_communities_true, sparse_frac):\n",
    "    num_e = lambda n: n * (n-1) / 2.0 * sparse_frac\n",
    "    temporal_edgelist = []\n",
    "    for l, partition in layer_communities_true.items():\n",
    "        for c, nodes in partition.items():\n",
    "            temporal_edgelist.extend(\n",
    "                [\n",
    "                    (a, b, l)\n",
    "                    for a, b in ulf.shuffle_list(generate_connected_graph(nodes))[:int(num_e(len(nodes)))]\n",
    "                ]\n",
    "            )\n",
    "\n",
    "    return pd.DataFrame(temporal_edgelist, columns=[\"node1\", \"node2\", \"layer\"])"
   ]
  },
  {
   "cell_type": "code",
   "execution_count": 348,
   "metadata": {
    "ExecuteTime": {
     "end_time": "2017-09-05T12:28:48.953623Z",
     "start_time": "2017-09-05T12:26:32.150705Z"
    },
    "run_control": {
     "frozen": false,
     "read_only": false
    },
    "scrolled": true
   },
   "outputs": [
    {
     "name": "stdout",
     "output_type": "stream",
     "text": [
      "0 1 2 3 4 5 6 7 8 9 10 11 12 13 14 15 16 17 18 19 20 21 22 23 24 25 26 27 28 29 30 31 32 33 34 35 36 37 38 39 40 41 42 43 44 45 46 47 48 49 50 51 52 53 54 55 56 57 58 59 60 61 62 63 64 65 66 67 68 69 70 71 72 73 74 75 76 77 78 79 80 81 82 83 84 85 86 87 88 89 90 91 92 93 94 95 96 97 98 99\n"
     ]
    }
   ],
   "source": [
    "N = 500\n",
    "C = 50\n",
    "sparse_frac = 0.5\n",
    "\n",
    "overlap_FC, merge_FC = [], []\n",
    "overlap_NFC, merge_NFC = [], []\n",
    "    \n",
    "for _itr in range(100):\n",
    "\n",
    "    # Create partition\n",
    "    partition_true = overlap_benchmark_model(N, C, swaps=2000)\n",
    "    network_pajek = write_pajek(partition_true, sparse_frac=sparse_frac)\n",
    "    \n",
    "    random_FC = np.random.randint(0, 1000000)\n",
    "    communities_FC, partition_FC, node_flow_FC, community_flow_FC = ulf.Infomap(\n",
    "        network_pajek,\n",
    "        '-i',\n",
    "        'multiplex',\n",
    "        '--multiplex-relax-rate', '0.3',\n",
    "        '--overlapping',\n",
    "        '--expanded',\n",
    "        '--clu',\n",
    "        '--pajek',\n",
    "        '-z',\n",
    "        '--two-level',\n",
    "        'pid%d' % random_FC\n",
    "    )\n",
    "\n",
    "    random_NFC = np.random.randint(0, 1000000)\n",
    "    communities_NFC, partition_NFC, node_flow_NFC, community_flow_NFC = ulf.Infomap(\n",
    "        network_pajek,\n",
    "        '-i',\n",
    "        'multiplex',\n",
    "        '--multiplex-js-relax-rate', '0.3',\n",
    "        '--overlapping',\n",
    "        '--expanded',\n",
    "        '--clu',\n",
    "        '--pajek',\n",
    "        '-z',\n",
    "        '--two-level',\n",
    "        'pid%d' % random_NFC\n",
    "    )\n",
    "    \n",
    "    # Compute overlap and merge\n",
    "    overlap_FC_iter, merge_FC_iter = compute_overlap_and_merge(partition_true, partition_FC) \n",
    "    overlap_NFC_iter, merge_NFC_iter = compute_overlap_and_merge(partition_true, partition_NFC) \n",
    "    \n",
    "    overlap_FC.extend(overlap_FC_iter)\n",
    "    merge_FC.extend(merge_FC_iter)\n",
    "    overlap_NFC.extend(overlap_NFC_iter)\n",
    "    merge_NFC.extend(merge_NFC_iter)\n",
    "    print _itr,\n"
   ]
  },
  {
   "cell_type": "code",
   "execution_count": 349,
   "metadata": {
    "ExecuteTime": {
     "end_time": "2017-09-05T12:29:04.201319Z",
     "start_time": "2017-09-05T12:29:03.941867Z"
    },
    "collapsed": true,
    "run_control": {
     "frozen": false,
     "read_only": false
    }
   },
   "outputs": [],
   "source": [
    "ds_FC = defaultdict(list)\n",
    "for o, m in zip(overlap_FC, merge_FC):\n",
    "    ds_FC[o].append(m)\n",
    "ds_NFC = defaultdict(list)\n",
    "for o, m in zip(overlap_NFC, merge_NFC):\n",
    "    ds_NFC[o].append(m)"
   ]
  },
  {
   "cell_type": "code",
   "execution_count": 351,
   "metadata": {
    "ExecuteTime": {
     "end_time": "2017-09-05T12:29:59.813685Z",
     "start_time": "2017-09-05T12:29:59.537952Z"
    },
    "run_control": {
     "frozen": false,
     "read_only": false
    }
   },
   "outputs": [
    {
     "data": {
      "image/png": "[encoded data removed]",
      "text/plain": [
       "<matplotlib.figure.Figure at 0x11072ae50>"
      ]
     },
     "metadata": {},
     "output_type": "display_data"
    }
   ],
   "source": [
    "plt.figure(figsize=(3.42/2, 1.2/1.8), frameon=False)\n",
    "\n",
    "x_FC, y_FC, e_FC, c_FC = zip(*sorted([(k, np.mean(v), np.std(v) / np.sqrt(len(v)), len(v)) for k, v in ds_FC.items()], key=lambda vals: vals[0]))\n",
    "plt.plot(x_FC, y_FC, c=\"#3498db\", lw=0.5)\n",
    "plt.scatter(x_FC, y_FC, c=\"#3498db\", lw=0, s=2)\n",
    "x_NFC, y_NFC, e_NFC, c_NFC = zip(*sorted([(k, np.mean(v), np.std(v) / np.sqrt(len(v)), len(v)) for k, v in ds_NFC.items()], key=lambda vals: vals[0]))\n",
    "plt.plot(x_NFC, y_NFC, c=\"#e74c3c\", lw=0.5)\n",
    "plt.scatter(x_NFC, y_NFC, c=\"#e74c3c\", lw=0, s=2)\n",
    "\n",
    "plt.xlabel(\"Num. of shared nodes\")\n",
    "plt.ylabel(\"Merge prob.\")\n",
    "plt.xlim(0, N/C)\n",
    "plt.ylim(-0.05, 1.0)\n",
    "\n",
    "plt.savefig(\"figures/merge_vs_shared_overlap_sparse05.pdf\")\n",
    "plt.show()"
   ]
  },
  {
   "cell_type": "markdown",
   "metadata": {},
   "source": [
    "## Two overlapping communities"
   ]
  },
  {
   "cell_type": "markdown",
   "metadata": {},
   "source": [
    "Not showing anything very strongly"
   ]
  },
  {
   "cell_type": "markdown",
   "metadata": {},
   "source": [
    "### Dense"
   ]
  },
  {
   "cell_type": "code",
   "execution_count": 257,
   "metadata": {
    "ExecuteTime": {
     "end_time": "2017-09-04T15:11:15.764038Z",
     "start_time": "2017-09-04T15:11:15.741708Z"
    },
    "collapsed": true,
    "run_control": {
     "frozen": false,
     "read_only": false
    }
   },
   "outputs": [],
   "source": [
    "def two_overlap_benchmark_model(N, m):\n",
    "    \"\"\"Create two communities of size `N` that overlap by `m` nodes.\n",
    "\n",
    "    Two communities each contain `N` nodes and overlap my `m` nodes. All\n",
    "    nodes in one layer are connected and we stack layers vertically. Examples:\n",
    "\n",
    "    N=5, m=1:          |  N=5, m=2:        |  N=3, m=2\n",
    "            o o o o o  |        o o o o o  |    o o o\n",
    "    o o o o o          |  o o o o o        |  o o o\n",
    "\n",
    "    Input\n",
    "    -----\n",
    "    N : int\n",
    "        Number of nodes in each community\n",
    "    m : int\n",
    "        Number of overlapping nodes between the two communities\n",
    "    \"\"\"\n",
    "    # Create both layers, initially identical\n",
    "    first_layer = np.arange(0, N)\n",
    "    second_layer = np.arange(N-m, 2*N - m)\n",
    "\n",
    "    # Produce multilayer state node label map\n",
    "    partition = defaultdict(lambda: defaultdict(list))\n",
    "    for l, nodes in enumerate([first_layer, second_layer]):\n",
    "        for n in nodes:\n",
    "            partition[l][l].append(n)\n",
    "\n",
    "    return ulf.default_to_regular(partition)\n",
    "\n",
    "def write_pajek(layer_partition, sparse_frac=1):\n",
    "    \"\"\"Create pajek file from layer partition.\"\"\"\n",
    "    network = \"*Vertices \"\n",
    "\n",
    "    nodes = set(\n",
    "        n\n",
    "        for l, partition in layer_partition.items()\n",
    "        for c, nodes in partition.items()\n",
    "        for n in nodes\n",
    "    )\n",
    "\n",
    "    network += str(len(nodes))\n",
    "\n",
    "    for n in sorted(nodes):\n",
    "        network += '\\n%d \"%d\" 1.0' % (n, n)\n",
    "\n",
    "    network += \"\\n*Intra\\n#layer node node [weight]\"\n",
    "\n",
    "    for l, partition in layer_partition.items():\n",
    "        for c, nodes in partition.items():\n",
    "            links = generate_connected_graph(nodes)\n",
    "            for a, b in ulf.shuffle_list(links)[:int(len(links)*sparse_frac)]:\n",
    "                network += \"\\n%d %d %d 1.0\" % (l, a, b)\n",
    "\n",
    "    return network"
   ]
  },
  {
   "cell_type": "code",
   "execution_count": 93,
   "metadata": {
    "ExecuteTime": {
     "end_time": "2017-09-04T13:24:10.306038Z",
     "start_time": "2017-09-04T13:23:42.780683Z"
    },
    "run_control": {
     "frozen": false,
     "read_only": false
    }
   },
   "outputs": [
    {
     "name": "stdout",
     "output_type": "stream",
     "text": [
      "\n",
      "N = 10 \n",
      "    m = 2 3 4 (NFC) (FC)\n",
      "N = 20 \n",
      "    m = 4 5 6 (NFC) (FC)\n",
      "N = 30 \n",
      "    m = 7 8 9 (NFC) (FC)\n",
      "N = 40 \n",
      "    m = 9 10 11 (FC) 12 13 (NFC)\n",
      "N = 50 \n",
      "    m = 11 12 13 14 15 (NFC) (FC)\n",
      "N = 60 \n",
      "    m = 14 15 16 17 (FC) 18 (NFC)\n",
      "N = 70 \n",
      "    m = 16 17 18 19 (FC) 20 21 22 (NFC)\n",
      "N = 80 \n",
      "    m = 18 19 20 21 22 23 24 (FC) 25 (NFC)\n",
      "N = 90 \n",
      "    m = 21 22 23 24 25 26 (FC) 27 (NFC)\n",
      "N = 100 \n",
      "    m = 23 24 25 26 27 28 (NFC) 29 30 (FC)\n",
      "N = 110 \n",
      "    m = 25 26 27 28 29 (FC) 30 31 32 33 (NFC)\n",
      "N = 120 \n",
      "    m = 28 29 30 31 32 33 34 (FC) 35 36 37 (NFC)\n",
      "N = 130 \n",
      "    m = 30 31 32 33 34 35 36 37 38 (NFC) (FC)\n",
      "N = 140 \n",
      "    m = 32 33 34 35 36 37 38 39 (FC) 40 (NFC)\n",
      "N = 150 \n",
      "    m = 35 36 37 38 39 40 41 42 (FC) 43 44 (NFC)\n",
      "N = 160 \n",
      "    m = 37 38 39 40 41 42 43 44 45 46 47 (NFC) (FC)\n",
      "N = 170 \n",
      "    m = 39 40 41 42 43 44 45 46 47 48 (NFC) (FC)\n",
      "N = 180 \n",
      "    m = 42 43 44 45 46 47 48 49 50 (NFC) (FC)\n",
      "N = 190 \n",
      "    m = 44 45 46 47 48 49 50 51 52 53 54 (FC) 55 (NFC)\n"
     ]
    }
   ],
   "source": [
    "num_e = lambda n: n * (n-1) / 2.0\n",
    "\n",
    "sparse_frac = 0.5\n",
    "\n",
    "dataN = defaultdict(dict)\n",
    "for N in range(10, 200, 10):\n",
    "    \n",
    "    print \n",
    "    print \"N =\", N, \"\\n    m =\",\n",
    "    \n",
    "    run_NFC, run_FC = True, True\n",
    "    for m in range(N/3-N/10, N):\n",
    "    \n",
    "        print m, \n",
    "        \n",
    "        # Create partition\n",
    "        two_layer_partition = two_overlap_benchmark_model(N, m)\n",
    "        network_pajek = write_pajek(two_layer_partition, sparse_frac=sparse_frac)\n",
    "\n",
    "        if run_NFC:\n",
    "            def _get_layer_layer_communities_NFC():\n",
    "                random_NFC = np.random.randint(0, 1000000)\n",
    "                return ulf.Infomap(\n",
    "                    network_pajek,\n",
    "                    '-i',\n",
    "                    'multiplex',\n",
    "                    '--multiplex-js-relax-rate', '0.25',\n",
    "                    '--overlapping',\n",
    "                    '--expanded',\n",
    "                    '--clu',\n",
    "                    '-z',\n",
    "                    '--two-level',\n",
    "                    'pid%d' % random_NFC\n",
    "                )[1]\n",
    "            \n",
    "            layer_communities_NFC = _get_layer_layer_communities_NFC ()\n",
    "            if layer_communities_NFC[0].keys()[0] == layer_communities_NFC[1].keys()[0]:\n",
    "                print \"(NFC)\",\n",
    "                run_NFC = False\n",
    "                dataN[N]['NFC'] = (m * 1.0 / (N - m), num_e(m) / (2 * num_e(N) - num_e(m)))\n",
    "\n",
    "        if run_FC:\n",
    "            @ulf.keeptrying(Exception)\n",
    "            def _get_layer_layer_communities_FC():\n",
    "                random_FC = np.random.randint(0, 1000000)\n",
    "                layer_communities_FC = ulf.Infomap(\n",
    "                    network_pajek,\n",
    "                    '-i',\n",
    "                    'multiplex',\n",
    "                    '--multiplex-relax-rate', '0.25',\n",
    "                    '--overlapping',\n",
    "                    '--expanded',\n",
    "                    '--clu',\n",
    "                    '-z',\n",
    "                    '--two-level',\n",
    "                    'pid%d' % random_FC\n",
    "                )[1]\n",
    "                \n",
    "                if layer_communities_FC == {}:\n",
    "                    raise Exception\n",
    "                \n",
    "                return layer_communities_FC\n",
    "            \n",
    "            layer_communities_FC = _get_layer_layer_communities_FC()\n",
    "            if layer_communities_FC[0].keys()[0] == layer_communities_FC[1].keys()[0]:\n",
    "                print \"(FC)\",\n",
    "                run_FC = False\n",
    "                dataN[N]['FC'] = (m * 1.0 / (N - m), num_e(m) / (2 * num_e(N) - num_e(m)))\n",
    "        \n",
    "        if not run_NFC and not run_FC:\n",
    "            break\n"
   ]
  },
  {
   "cell_type": "code",
   "execution_count": 67,
   "metadata": {
    "ExecuteTime": {
     "end_time": "2017-09-04T13:12:51.659346Z",
     "start_time": "2017-09-04T13:12:51.445054Z"
    },
    "run_control": {
     "frozen": false,
     "read_only": false
    }
   },
   "outputs": [
    {
     "data": {
      "image/png": "[encoded data removed]",
      "text/plain": [
       "<matplotlib.figure.Figure at 0x10d7f0a90>"
      ]
     },
     "metadata": {},
     "output_type": "display_data"
    }
   ],
   "source": [
    "x, y_NFC_n, y_NFC_e, y_FC_n, y_FC_e = [], [], [], [], []\n",
    "for N, data in sorted(dataN.items(), key=lambda (k, v): k):    \n",
    "    x.append(N)\n",
    "    y_NFC_n.append(data['NFC'][0])\n",
    "    y_NFC_e.append(data['NFC'][1])\n",
    "    y_FC_n.append(data['FC'][0])\n",
    "    y_FC_e.append(data['FC'][1])\n",
    "a\n",
    "plt.figure()\n",
    "\n",
    "plt.plot(x, y_NFC_n, c=\"#e74c3c\", ls=\"--\")\n",
    "plt.plot(x, y_NFC_e, c=\"#e74c3c\", ls=\"-\")\n",
    "\n",
    "plt.plot(x, y_FC_n, c=\"#3498db\", ls=\"--\")\n",
    "plt.plot(x, y_FC_e, c=\"#3498db\", ls=\"-\")\n",
    "\n",
    "plt.show()"
   ]
  },
  {
   "cell_type": "code",
   "execution_count": 95,
   "metadata": {
    "ExecuteTime": {
     "end_time": "2017-09-04T13:24:21.704154Z",
     "start_time": "2017-09-04T13:24:21.528370Z"
    },
    "run_control": {
     "frozen": false,
     "read_only": false
    }
   },
   "outputs": [
    {
     "data": {
      "image/png": "[encoded data removed]",
      "text/plain": [
       "<matplotlib.figure.Figure at 0x10da9f810>"
      ]
     },
     "metadata": {},
     "output_type": "display_data"
    }
   ],
   "source": [
    "x, y_NFC_n, y_NFC_e, y_FC_n, y_FC_e = [], [], [], [], []\n",
    "for N, data in sorted(dataN.items(), key=lambda (k, v): k):    \n",
    "    x.append(N)\n",
    "    y_NFC_n.append(data['NFC'][0])\n",
    "    y_NFC_e.append(data['NFC'][1])\n",
    "    y_FC_n.append(data['FC'][0])\n",
    "    y_FC_e.append(data['FC'][1])\n",
    "a\n",
    "plt.figure()\n",
    "\n",
    "plt.plot(x, y_NFC_n, c=\"#e74c3c\", ls=\"--\")\n",
    "plt.plot(x, y_NFC_e, c=\"#e74c3c\", ls=\"-\")\n",
    "\n",
    "plt.plot(x, y_FC_n, c=\"#3498db\", ls=\"--\")\n",
    "plt.plot(x, y_FC_e, c=\"#3498db\", ls=\"-\")\n",
    "\n",
    "plt.show()"
   ]
  },
  {
   "cell_type": "markdown",
   "metadata": {},
   "source": [
    "### Sparse"
   ]
  },
  {
   "cell_type": "code",
   "execution_count": 8,
   "metadata": {
    "ExecuteTime": {
     "end_time": "2017-09-04T09:00:18.553995Z",
     "start_time": "2017-09-04T09:00:18.546487Z"
    },
    "collapsed": true,
    "run_control": {
     "frozen": false,
     "read_only": false
    }
   },
   "outputs": [],
   "source": [
    "def two_overlap_benchmark_model(N, m, d=1):\n",
    "    \"\"\"Create an instance of the two communities overlap benchmark model.\n",
    "    \n",
    "    Input\n",
    "    -----\n",
    "    N : int\n",
    "        Number of nodes in each community\n",
    "    m : int\n",
    "        Number of overlapping nodes between the two communities\n",
    "    \"\"\"\n",
    "    # Create both layers, initially identical\n",
    "    first_layer = np.arange(0, N)\n",
    "    second_layer = np.arange(N-m, 2*N - m)\n",
    "\n",
    "    # Produce multilayer state node label map\n",
    "    partition_true = {}\n",
    "    for l, nodes in enumerate([first_layer, second_layer] * d):\n",
    "        for n in nodes:\n",
    "            partition_true[str(l) + \"_\" + str(n)] = l\n",
    "                \n",
    "    return partition_true"
   ]
  },
  {
   "cell_type": "code",
   "execution_count": 2850,
   "metadata": {
    "ExecuteTime": {
     "end_time": "2017-08-16T14:35:58.244429Z",
     "start_time": "2017-08-16T14:34:51.869385Z"
    },
    "run_control": {
     "frozen": false,
     "read_only": false
    },
    "scrolled": true
   },
   "outputs": [
    {
     "name": "stdout",
     "output_type": "stream",
     "text": [
      "\n",
      "N = 10 \n",
      "    m = 2 (FC) 3 4 5 6 7 8 9\n",
      "N = 20 \n",
      "    m = 4 5 6 7 8 9 (FC) 10 11 (NFC)\n",
      "N = 30 \n",
      "    m = 7 8 (FC) 9 10 11 12 13 14 15 16 17 18 19 20 21 22 23 (NFC)\n",
      "N = 40 \n",
      "    m = 9 10 11 12 13 14 15 16 17 18 19 20 21 22 (FC) 23 24 25 26 27 28 29 30 31 32 (NFC)\n",
      "N = 50 \n",
      "    m = 11 12 13 14 15 16 17 18 19 (FC) 20 21 22 23 24 25 26 27 28 (NFC)\n",
      "N = 60 \n",
      "    m = 14 15 16 17 18 19 20 21 22 23 24 25 26 (FC) 27 28 29 30 31 32 33 (NFC)\n",
      "N = 70 \n",
      "    m = 16 17 18 19 20 21 22 23 24 25 26 27 28 (FC) 29 30 31 32 33 34 35 36 37 38 39 40 (NFC)\n",
      "N = 80 \n",
      "    m = 18 19 20 21 22 23 24 25 26 27 28 29 (FC) 30 (NFC)\n",
      "N = 90 \n",
      "    m = 21 22 23 24 25 26 27 (NFC) 28 29 30 31 32 33 34 35 36 37 38 39 (FC)\n",
      "N = 100 \n",
      "    m = 23 24 25 26 27 28 29 (NFC) 30 (FC)\n",
      "N = 110 \n",
      "    m = 25 26 27 28 29 30 31 32 (FC) 33 34 35 (NFC)\n",
      "N = 120 \n",
      "    m = 28 29 30 31 32 33 34 35 (NFC) 36 37 (FC)\n",
      "N = 130 \n",
      "    m = 30 31 32 33 34 35 36 37 38 (NFC) (FC)\n",
      "N = 140 \n",
      "    m = 32 33 34 35 36 37 38 (FC) 39 40 (NFC)\n",
      "N = 150 \n",
      "    m = 35 36 37 38 39 40 41 42 (NFC) 43 (FC)\n",
      "N = 160 \n",
      "    m = 37 38 39 40 41 42 (FC) 43 44 45 (NFC)\n",
      "N = 170 \n",
      "    m = 39 40 41 42 43 44 (NFC) 45 46 47 (FC)\n",
      "N = 180 \n",
      "    m = 42 43 44 45 46 47 (NFC) 48 49 50 (FC)\n",
      "N = 190 \n",
      "    m = 44 45 46 47 48 49 50 51 (NFC) 52 53 54 (FC)\n"
     ]
    }
   ],
   "source": [
    "sparse_frac = 0.1\n",
    "num_e = lambda n: n * (n-1) / 2.0 * sparse_frac\n",
    "\n",
    "dataN_sparse = defaultdict(dict)\n",
    "for N in range(10, 200, 10):\n",
    "    \n",
    "    print \n",
    "    print \"N =\", N, \"\\n    m =\",\n",
    "    \n",
    "    run_NFC, run_FC = True, True\n",
    "    for m in range(N/3-N/10, N):\n",
    "    \n",
    "        print m, \n",
    "        \n",
    "        # Create partition\n",
    "        partition_true = two_overlap_benchmark_model(N, m, 1)\n",
    "\n",
    "        # Compute communities and estimate quality\n",
    "        layer_communities_true = inflate_layer_partition(partition_true)\n",
    "\n",
    "        # Convert to temporal edgelist\n",
    "        temporal_edgelist = []\n",
    "        for l, partition in layer_communities_true.items():\n",
    "            for c, nodes in partition.items():\n",
    "                temporal_edgelist.extend(\n",
    "                    [\n",
    "                        (a, b, l)\n",
    "                        for a, b in ulf.shuffle_list(generate_connected_graph(nodes))[:int(num_e(N))]\n",
    "                    ]\n",
    "                )\n",
    "        temporal_edgelist = pd.DataFrame(temporal_edgelist, columns=[\"node1\", \"node2\", \"layer\"])\n",
    "        \n",
    "        # Convert to pajek\n",
    "        network_pajek = ulf.write_pajek(temporal_edgelist)\n",
    "\n",
    "        if run_NFC:\n",
    "            def _get_layer_layer_communities_NFC():\n",
    "                random_NFC = np.random.randint(0, 1000000)\n",
    "                return ulf.Infomap(\n",
    "                    network_pajek,\n",
    "                    '-i',\n",
    "                    'multiplex',\n",
    "                    '--multiplex-js-relax-rate', '0.25',\n",
    "                    '--overlapping',\n",
    "                    '--multiplex-add-missing-nodes',\n",
    "                    '--expanded',\n",
    "                    '--clu',\n",
    "                    '-z',\n",
    "                    '--two-level',\n",
    "                    'pid%d' % random_NFC\n",
    "                )[1]\n",
    "            \n",
    "            layer_communities_NFC = _get_layer_layer_communities_NFC ()\n",
    "            if layer_communities_NFC[0].keys()[0] == layer_communities_NFC[1].keys()[0]:\n",
    "                print \"(NFC)\",\n",
    "                run_NFC = False\n",
    "                dataN_sparse[N]['NFC'] = (m * 1.0 / (2 * N - m), num_e(m) / (2 * num_e(N) - num_e(m)))\n",
    "\n",
    "        if run_FC:\n",
    "            @ulf.keeptrying(Exception)\n",
    "            def _get_layer_layer_communities_FC():\n",
    "                random_FC = np.random.randint(0, 1000000)\n",
    "                _, layer_communities_FC, _, _ = ulf.Infomap(\n",
    "                    network_pajek,\n",
    "                    '-i',\n",
    "                    'multiplex',\n",
    "                    '--multiplex-relax-rate', '0.25',\n",
    "                    '--overlapping',\n",
    "                    '--multiplex-add-missing-nodes',\n",
    "                    '--expanded',\n",
    "                    '--clu',\n",
    "                    '-z',\n",
    "                    '--two-level',\n",
    "                    'pid%d' % random_FC\n",
    "                )\n",
    "\n",
    "                if layer_communities_FC == {}:\n",
    "                    raise Exception\n",
    "\n",
    "                # Filter dead nodes from FC\n",
    "                nodes_l = dict(\n",
    "                    (l, c_nodes.values()[0])\n",
    "                    for l, c_nodes in layer_communities_true.items()\n",
    "                )\n",
    "\n",
    "                tmp = defaultdict(lambda: defaultdict(list))\n",
    "                for l, c_nodes in layer_communities_FC.items():\n",
    "                    for c, nodes in c_nodes.items():\n",
    "                        if len(set(nodes) & set(nodes_l[l])) != 0:\n",
    "                            tmp[l][c].extend([n for n in nodes if n in nodes_l[l]])\n",
    "\n",
    "                return ulf.default_to_regular(tmp)\n",
    "            \n",
    "            layer_communities_FC = _get_layer_layer_communities_FC()\n",
    "            if layer_communities_FC[0].keys()[0] == layer_communities_FC[1].keys()[0]:\n",
    "                print \"(FC)\",\n",
    "                run_FC = False\n",
    "                dataN_sparse[N]['FC'] = (m * 1.0 / (2 * N - m), num_e(m) / (2 * num_e(N) - num_e(m)))\n",
    "        \n",
    "        if not run_NFC and not run_FC:\n",
    "            break\n"
   ]
  },
  {
   "cell_type": "code",
   "execution_count": 2854,
   "metadata": {
    "ExecuteTime": {
     "end_time": "2017-08-16T14:44:31.247722Z",
     "start_time": "2017-08-16T14:44:31.054496Z"
    },
    "run_control": {
     "frozen": false,
     "read_only": false
    }
   },
   "outputs": [
    {
     "data": {
      "image/png": "[encoded data removed]",
      "text/plain": [
       "<matplotlib.figure.Figure at 0x12ced1a50>"
      ]
     },
     "metadata": {},
     "output_type": "display_data"
    }
   ],
   "source": [
    "x, y_NFC_n, y_NFC_e, y_FC_n, y_FC_e = [], [], [], [], []\n",
    "for N, data in sorted(dataN_sparse.items(), key=lambda (k, v): k):    \n",
    "    if 'FC' not in data or 'NFC' not in data:\n",
    "        continue\n",
    "    x.append(N)\n",
    "    y_NFC_n.append(data['NFC'][0])\n",
    "    y_NFC_e.append(data['NFC'][1])\n",
    "    y_FC_n.append(data['FC'][0])\n",
    "    y_FC_e.append(data['FC'][1])\n",
    "\n",
    "plt.figure()\n",
    "\n",
    "plt.plot(x, y_NFC_n, c=\"#e74c3c\", ls=\"--\")\n",
    "plt.plot(x, y_NFC_e, c=\"#e74c3c\", ls=\"-\")\n",
    "\n",
    "plt.plot(x, y_FC_n, c=\"#3498db\", ls=\"--\")\n",
    "plt.plot(x, y_FC_e, c=\"#3498db\", ls=\"-\")\n",
    "\n",
    "plt.xlim(0, 400)\n",
    "\n",
    "plt.show()"
   ]
  },
  {
   "cell_type": "markdown",
   "metadata": {
    "collapsed": true,
    "run_control": {
     "frozen": false,
     "read_only": false
    }
   },
   "source": [
    "### Transition probability"
   ]
  },
  {
   "cell_type": "code",
   "execution_count": 9,
   "metadata": {
    "ExecuteTime": {
     "end_time": "2017-09-04T09:00:25.418165Z",
     "start_time": "2017-09-04T09:00:25.410606Z"
    },
    "collapsed": true,
    "run_control": {
     "frozen": false,
     "read_only": false
    }
   },
   "outputs": [],
   "source": [
    "def two_overlap_benchmark_model(N, m, d=1):\n",
    "    \"\"\"Create an instance of the two communities overlap benchmark model.\n",
    "    \n",
    "    Input\n",
    "    -----\n",
    "    N : int\n",
    "        Number of nodes in each community\n",
    "    m : int\n",
    "        Number of overlapping nodes between the two communities\n",
    "    \"\"\"\n",
    "    # Create both layers, initially identical\n",
    "    first_layer = np.arange(0, N)\n",
    "    second_layer = np.arange(N-m, 2*N - m)\n",
    "\n",
    "    # Produce multilayer state node label map\n",
    "    partition_true = {}\n",
    "    for l, nodes in enumerate([first_layer, second_layer] * d):\n",
    "        for n in nodes:\n",
    "            partition_true[str(l) + \"_\" + str(n)] = l\n",
    "                \n",
    "    return partition_true"
   ]
  },
  {
   "cell_type": "code",
   "execution_count": 505,
   "metadata": {
    "ExecuteTime": {
     "end_time": "2017-09-01T13:23:31.305323Z",
     "start_time": "2017-09-01T13:23:31.209115Z"
    },
    "collapsed": true,
    "run_control": {
     "frozen": false,
     "read_only": false
    }
   },
   "outputs": [],
   "source": [
    "sparse_frac = 1.0\n",
    "\n",
    "N = 10\n",
    "deltas = np.linspace(1.0/N, 1, N)\n",
    "ms = N * deltas\n",
    "\n",
    "num_e = lambda n: n * (n-1) / 2.0 * sparse_frac\n",
    "\n",
    "# Create partition\n",
    "partition_true = two_overlap_benchmark_model(N, m, 1)\n",
    "\n",
    "# Compute communities and estimate quality\n",
    "layer_communities_true = inflate_layer_partition(partition_true)\n",
    "\n",
    "# Convert to temporal edgelist\n",
    "temporal_edgelist = pd.DataFrame(columns=[\"node1\", \"node2\", \"layer\"]).astype(int)\n",
    "for l, partition in layer_communities_true.items():\n",
    "    for c, nodes in partition.items():\n",
    "        temporal_edgelist = pd.concat([\n",
    "            temporal_edgelist, \n",
    "            pd.DataFrame([\n",
    "                (a, b, l)\n",
    "                for a, b in ulf.shuffle_list(generate_connected_graph(nodes))[:int(num_e(N))]\n",
    "            ], columns=[\"node1\", \"node2\", \"layer\"])\n",
    "        ])\n",
    "        \n",
    "# Convert to pajek\n",
    "network_pajek = ulf.write_pajek(temporal_edgelist)\n",
    "\n",
    "# Compute NFC\n",
    "def run_NFC(seed):\n",
    "    return ulf.Infomap(\n",
    "        network_pajek,\n",
    "        '-i',\n",
    "        'multiplex',\n",
    "        '--multiplex-js-relax-rate', '0.25',\n",
    "        '--overlapping',\n",
    "        '--multiplex-add-missing-nodes',\n",
    "        '--expanded',\n",
    "        '--pajek',\n",
    "        '--clu',\n",
    "        '-z',\n",
    "        '--two-level',\n",
    "        'pid%d' % seed\n",
    "    )\n",
    "\n",
    "random_NFC = np.random.randint(0, 1000000)\n",
    "a, b, c, d = run_NFC(random_NFC)\n",
    "\n",
    "with open(\"/tmp/output_infomap/tmpnet%d.net\" % random_NFC) as fp:\n",
    "    pajek_NFC = fp.read()\n",
    "    subprocess.call([\"rm\", \"/tmp/output_infomap/tmpnet%d.net\" % random_NFC])"
   ]
  },
  {
   "cell_type": "code",
   "execution_count": 506,
   "metadata": {
    "ExecuteTime": {
     "end_time": "2017-09-01T13:23:40.038930Z",
     "start_time": "2017-09-01T13:23:40.032512Z"
    },
    "run_control": {
     "frozen": false,
     "read_only": false
    }
   },
   "outputs": [
    {
     "data": {
      "text/plain": [
       "{'0_0': 0.0911458,\n",
       " '0_1': 0.0911458,\n",
       " '0_2': 0.0911458,\n",
       " '0_3': 0.0911458,\n",
       " '0_4': 0.09375,\n",
       " '0_5': 0.0104167,\n",
       " '0_6': 0.0104167,\n",
       " '0_7': 0.0104167,\n",
       " '0_8': 0.0104167,\n",
       " '1_0': 0.0104167,\n",
       " '1_1': 0.0104167,\n",
       " '1_2': 0.0104167,\n",
       " '1_3': 0.0104167,\n",
       " '1_4': 0.09375,\n",
       " '1_5': 0.0911458,\n",
       " '1_6': 0.0911458,\n",
       " '1_7': 0.0911458,\n",
       " '1_8': 0.0911458}"
      ]
     },
     "execution_count": 506,
     "metadata": {},
     "output_type": "execute_result"
    }
   ],
   "source": [
    "c"
   ]
  },
  {
   "cell_type": "code",
   "execution_count": 443,
   "metadata": {
    "ExecuteTime": {
     "end_time": "2017-09-01T10:00:36.016645Z",
     "start_time": "2017-09-01T10:00:36.010178Z"
    },
    "run_control": {
     "frozen": false,
     "read_only": false
    }
   },
   "outputs": [
    {
     "data": {
      "text/plain": [
       "[]"
      ]
     },
     "execution_count": 443,
     "metadata": {},
     "output_type": "execute_result"
    }
   ],
   "source": [
    "[\n",
    "    l\n",
    "    for l in re.findall(r\"\\d+ \\d+ \\d+ \\d+ \\d.*\\d*\", pajek_NFC)\n",
    "    if l.split()[0] != l.split()[2]\n",
    "]"
   ]
  },
  {
   "cell_type": "code",
   "execution_count": 489,
   "metadata": {
    "ExecuteTime": {
     "end_time": "2017-09-01T13:16:51.680649Z",
     "start_time": "2017-09-01T13:16:51.660130Z"
    },
    "collapsed": true,
    "run_control": {
     "frozen": false,
     "read_only": false
    }
   },
   "outputs": [],
   "source": [
    "N = 5\n",
    "m = 1\n",
    "\n",
    "num_e = lambda n: n * (n-1) / 2.0 * sparse_frac\n",
    "\n",
    "# Create partition\n",
    "partition_true = two_overlap_benchmark_model(N, m)\n",
    "\n",
    "# Compute communities and estimate quality\n",
    "layer_communities_true = inflate_layer_partition(partition_true)\n",
    "\n",
    "# Convert to temporal edgelist\n",
    "temporal_edgelist = pd.DataFrame(columns=[\"node1\", \"node2\", \"layer\"]).astype(int)\n",
    "for l, partition in layer_communities_true.items():\n",
    "    for c, nodes in partition.items():\n",
    "        temporal_edgelist = pd.concat([\n",
    "            temporal_edgelist, \n",
    "            pd.DataFrame([\n",
    "                (a, b, l)\n",
    "                for a, b in ulf.shuffle_list(generate_connected_graph(nodes))[:int(num_e(N))]\n",
    "            ], columns=[\"node1\", \"node2\", \"layer\"])\n",
    "        ])\n",
    "        \n",
    "# Convert to pajek\n",
    "network_pajek = ulf.write_pajek(temporal_edgelist)"
   ]
  },
  {
   "cell_type": "code",
   "execution_count": 494,
   "metadata": {
    "ExecuteTime": {
     "end_time": "2017-09-01T13:18:14.850079Z",
     "start_time": "2017-09-01T13:18:14.845427Z"
    },
    "collapsed": true,
    "run_control": {
     "frozen": false,
     "read_only": false
    }
   },
   "outputs": [],
   "source": [
    "with open(\"fc_example/network.net\", 'w') as fp:\n",
    "    fp.write(network_pajek)"
   ]
  },
  {
   "cell_type": "code",
   "execution_count": 493,
   "metadata": {
    "ExecuteTime": {
     "end_time": "2017-09-01T13:17:13.023520Z",
     "start_time": "2017-09-01T13:17:12.907122Z"
    },
    "collapsed": true,
    "run_control": {
     "frozen": false,
     "read_only": false
    }
   },
   "outputs": [],
   "source": [
    "mkdir fc_example"
   ]
  },
  {
   "cell_type": "code",
   "execution_count": null,
   "metadata": {
    "collapsed": true,
    "run_control": {
     "frozen": false,
     "read_only": false
    }
   },
   "outputs": [],
   "source": []
  }
 ],
 "metadata": {
  "kernelspec": {
   "display_name": "Python 2",
   "language": "python",
   "name": "python2"
  },
  "language_info": {
   "codemirror_mode": {
    "name": "ipython",
    "version": 2
   },
   "file_extension": ".py",
   "mimetype": "text/x-python",
   "name": "python",
   "nbconvert_exporter": "python",
   "pygments_lexer": "ipython2",
   "version": "2.7.13"
  },
  "nav_menu": {},
  "toc": {
   "navigate_menu": true,
   "number_sections": true,
   "sideBar": true,
   "threshold": 6,
   "toc_cell": false,
   "toc_section_display": "block",
   "toc_window_display": true
  }
 },
 "nbformat": 4,
 "nbformat_minor": 1
}
